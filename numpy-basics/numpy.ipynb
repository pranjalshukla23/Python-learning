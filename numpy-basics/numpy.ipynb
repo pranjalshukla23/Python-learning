{
 "cells": [
  {
   "cell_type": "code",
   "execution_count": 1,
   "id": "f7a4e669-d827-4f8f-8731-d919b483435b",
   "metadata": {},
   "outputs": [],
   "source": [
    "import numpy as np"
   ]
  },
  {
   "cell_type": "markdown",
   "id": "fbf96e4c-4981-42b2-a8c8-f020605392ef",
   "metadata": {},
   "source": [
    "## 1. Creating numpy array"
   ]
  },
  {
   "cell_type": "code",
   "execution_count": 9,
   "id": "96dedaa3-b037-464c-86ae-1c55b8c9750f",
   "metadata": {},
   "outputs": [
    {
     "data": {
      "text/plain": [
       "array([[ 3,  6, 32,  7]])"
      ]
     },
     "execution_count": 9,
     "metadata": {},
     "output_type": "execute_result"
    }
   ],
   "source": [
    "myarr = np.array([[3, 6, 32, 7]], np.int64)\n",
    "myarr"
   ]
  },
  {
   "cell_type": "markdown",
   "id": "5f6723a9-d4c5-41ea-83ae-921b18949c31",
   "metadata": {},
   "source": [
    "## 2. Accessing numpy array"
   ]
  },
  {
   "cell_type": "code",
   "execution_count": 10,
   "id": "f1e1bce0-6a15-43cc-9699-5c9059eb5e14",
   "metadata": {},
   "outputs": [
    {
     "data": {
      "text/plain": [
       "np.int64(6)"
      ]
     },
     "execution_count": 10,
     "metadata": {},
     "output_type": "execute_result"
    }
   ],
   "source": [
    "myarr[0,1]"
   ]
  },
  {
   "cell_type": "markdown",
   "id": "27b235f1-19b7-44b2-a67d-d84bd76475ac",
   "metadata": {},
   "source": [
    "## 3. Get shape of array"
   ]
  },
  {
   "cell_type": "code",
   "execution_count": 12,
   "id": "c39c89ec-be42-485d-8299-a3278a20ad1b",
   "metadata": {},
   "outputs": [
    {
     "data": {
      "text/plain": [
       "(1, 4)"
      ]
     },
     "execution_count": 12,
     "metadata": {},
     "output_type": "execute_result"
    }
   ],
   "source": [
    "myarr.shape"
   ]
  },
  {
   "cell_type": "markdown",
   "id": "bec10b67-efb2-473f-83f9-030705eb3d70",
   "metadata": {},
   "source": [
    "## 4. Changing elements"
   ]
  },
  {
   "cell_type": "code",
   "execution_count": 14,
   "id": "e6e35603-c8be-4b9c-8aea-d28aae67ba3c",
   "metadata": {},
   "outputs": [
    {
     "data": {
      "text/plain": [
       "np.int64(45)"
      ]
     },
     "execution_count": 14,
     "metadata": {},
     "output_type": "execute_result"
    }
   ],
   "source": [
    "myarr[0,1] = 45\n",
    "myarr[0,1]"
   ]
  },
  {
   "cell_type": "markdown",
   "id": "aa157300-100e-4611-8951-82d07991e2ce",
   "metadata": {},
   "source": [
    "## 5. Array creation: From python structures"
   ]
  },
  {
   "cell_type": "code",
   "execution_count": 15,
   "id": "fe528f14-f66c-4cf1-85d1-587e04652c6a",
   "metadata": {},
   "outputs": [
    {
     "data": {
      "text/plain": [
       "array([[1, 2, 3],\n",
       "       [5, 8, 5],\n",
       "       [0, 3, 1]])"
      ]
     },
     "execution_count": 15,
     "metadata": {},
     "output_type": "execute_result"
    }
   ],
   "source": [
    "# Array creation: conversion from other python structures\n",
    "listarray = np.array([[1, 2, 3], [5, 8, 5], [0, 3, 1]])\n",
    "listarray"
   ]
  },
  {
   "cell_type": "code",
   "execution_count": 16,
   "id": "2949b4fd-3615-4e92-bc5f-9d7d22630c24",
   "metadata": {},
   "outputs": [
    {
     "name": "stdout",
     "output_type": "stream",
     "text": [
      "(3, 3)\n",
      "9\n"
     ]
    }
   ],
   "source": [
    "print(listarray.shape)\n",
    "print(listarray.size)"
   ]
  },
  {
   "cell_type": "code",
   "execution_count": 17,
   "id": "78078233-e49a-4e3c-9377-a95a8eaf9a65",
   "metadata": {},
   "outputs": [
    {
     "data": {
      "text/plain": [
       "array({56, 45, 22}, dtype=object)"
      ]
     },
     "execution_count": 17,
     "metadata": {},
     "output_type": "execute_result"
    }
   ],
   "source": [
    "np.array({22, 45, 56})"
   ]
  },
  {
   "cell_type": "markdown",
   "id": "5b715ce6-9176-41b0-b87f-86c829e35c24",
   "metadata": {},
   "source": [
    "## 6. Array creation: From array creation methods"
   ]
  },
  {
   "cell_type": "code",
   "execution_count": 20,
   "id": "55038453-de9f-499e-aee5-de21c099565c",
   "metadata": {},
   "outputs": [
    {
     "data": {
      "text/plain": [
       "array([[0., 0., 0., 0., 0.],\n",
       "       [0., 0., 0., 0., 0.]])"
      ]
     },
     "execution_count": 20,
     "metadata": {},
     "output_type": "execute_result"
    }
   ],
   "source": [
    "# zeros array of a given shape\n",
    "zeroes = np.zeros((2,5))\n",
    "zeroes"
   ]
  },
  {
   "cell_type": "code",
   "execution_count": 22,
   "id": "1af36a60-74db-4e1d-a73b-c2656c9afb30",
   "metadata": {},
   "outputs": [
    {
     "data": {
      "text/plain": [
       "(2, 5)"
      ]
     },
     "execution_count": 22,
     "metadata": {},
     "output_type": "execute_result"
    }
   ],
   "source": [
    "zeroes.shape"
   ]
  },
  {
   "cell_type": "code",
   "execution_count": 23,
   "id": "42517b04-1e41-41c6-9932-6dceb21c16e3",
   "metadata": {},
   "outputs": [
    {
     "data": {
      "text/plain": [
       "dtype('float64')"
      ]
     },
     "execution_count": 23,
     "metadata": {},
     "output_type": "execute_result"
    }
   ],
   "source": [
    "zeroes.dtype"
   ]
  },
  {
   "cell_type": "code",
   "execution_count": 25,
   "id": "9185392e-fa89-415c-b68a-dddc1bbe3e59",
   "metadata": {},
   "outputs": [
    {
     "data": {
      "text/plain": [
       "array([ 0,  1,  2,  3,  4,  5,  6,  7,  8,  9, 10, 11, 12, 13, 14])"
      ]
     },
     "execution_count": 25,
     "metadata": {},
     "output_type": "execute_result"
    }
   ],
   "source": [
    "# array of sequential numbers till the given range\n",
    "rng = np.arange(15)\n",
    "rng"
   ]
  },
  {
   "cell_type": "code",
   "execution_count": 26,
   "id": "ce25a427-b09d-4044-b636-1a0d7a98fd2d",
   "metadata": {},
   "outputs": [
    {
     "data": {
      "text/plain": [
       "array([ 1.        ,  6.44444444, 11.88888889, 17.33333333, 22.77777778,\n",
       "       28.22222222, 33.66666667, 39.11111111, 44.55555556, 50.        ])"
      ]
     },
     "execution_count": 26,
     "metadata": {},
     "output_type": "execute_result"
    }
   ],
   "source": [
    "# array of N random numbers from a given range\n",
    "lspace = np.linspace(1, 50, 10)\n",
    "lspace"
   ]
  },
  {
   "cell_type": "code",
   "execution_count": 27,
   "id": "d9b8a7ff-eed5-4948-852e-3a08320d1964",
   "metadata": {},
   "outputs": [
    {
     "data": {
      "text/plain": [
       "array([[8.65203688e-312, 8.65203688e-312, 8.65203688e-312,\n",
       "        8.65203688e-312, 8.65203688e-312, 8.65203688e-312],\n",
       "       [8.65203688e-312, 8.65203688e-312, 8.65203688e-312,\n",
       "        8.65203688e-312, 8.65205965e-312, 8.65203688e-312],\n",
       "       [8.65203688e-312, 8.65203688e-312, 8.65203687e-312,\n",
       "        8.65205963e-312, 8.65203688e-312, 8.65203688e-312],\n",
       "       [8.65203688e-312, 8.65203688e-312, 8.65203688e-312,\n",
       "        8.65205964e-312, 8.65203687e-312, 8.65203688e-312]])"
      ]
     },
     "execution_count": 27,
     "metadata": {},
     "output_type": "execute_result"
    }
   ],
   "source": [
    "# array of empty elements of a given shape\n",
    "emp = np.empty((4,6))\n",
    "emp"
   ]
  },
  {
   "cell_type": "code",
   "execution_count": 28,
   "id": "8f88f94a-e031-4c50-9fb4-2fc08a1f7db3",
   "metadata": {},
   "outputs": [
    {
     "data": {
      "text/plain": [
       "array([ 1.        ,  6.44444444, 11.88888889, 17.33333333, 22.77777778,\n",
       "       28.22222222, 33.66666667, 39.11111111, 44.55555556, 50.        ])"
      ]
     },
     "execution_count": 28,
     "metadata": {},
     "output_type": "execute_result"
    }
   ],
   "source": [
    "# creates an empty array of size similar to existing array\n",
    "emp_like = np.empty_like(lspace)\n",
    "emp_like"
   ]
  },
  {
   "cell_type": "code",
   "execution_count": null,
   "id": "3fa0dfef-65aa-4671-9bbe-8d6442981ade",
   "metadata": {},
   "outputs": [],
   "source": [
    "# identity matrix of size N\n",
    "ide = np.identity(45)\n",
    "ide"
   ]
  },
  {
   "cell_type": "markdown",
   "id": "85b00c35-6456-46a9-877a-027da383f4d8",
   "metadata": {},
   "source": [
    "## 7. Reshaping an array"
   ]
  },
  {
   "cell_type": "code",
   "execution_count": 37,
   "id": "7f6b959f-8fa1-4b65-87e6-781d0f3f656f",
   "metadata": {},
   "outputs": [
    {
     "data": {
      "text/plain": [
       "array([ 0,  1,  2,  3,  4,  5,  6,  7,  8,  9, 10, 11, 12, 13, 14, 15, 16,\n",
       "       17, 18, 19, 20, 21, 22, 23, 24, 25, 26, 27, 28, 29, 30, 31, 32, 33,\n",
       "       34, 35, 36, 37, 38, 39, 40, 41, 42, 43, 44, 45, 46, 47, 48, 49, 50,\n",
       "       51, 52, 53, 54, 55, 56, 57, 58, 59, 60, 61, 62, 63, 64, 65, 66, 67,\n",
       "       68, 69, 70, 71, 72, 73, 74, 75, 76, 77, 78, 79, 80, 81, 82, 83, 84,\n",
       "       85, 86, 87, 88, 89, 90, 91, 92, 93, 94, 95, 96, 97, 98])"
      ]
     },
     "execution_count": 37,
     "metadata": {},
     "output_type": "execute_result"
    }
   ],
   "source": [
    "arr = np.arange(99)\n",
    "arr"
   ]
  },
  {
   "cell_type": "code",
   "execution_count": 38,
   "id": "eab9d028-87b5-49a7-b42f-b6e0ba323aed",
   "metadata": {},
   "outputs": [
    {
     "data": {
      "text/plain": [
       "(99,)"
      ]
     },
     "execution_count": 38,
     "metadata": {},
     "output_type": "execute_result"
    }
   ],
   "source": [
    "arr.shape"
   ]
  },
  {
   "cell_type": "code",
   "execution_count": 39,
   "id": "52d7c89e-7d72-41d2-a839-22130fdaf268",
   "metadata": {},
   "outputs": [
    {
     "data": {
      "text/plain": [
       "(3, 33)"
      ]
     },
     "execution_count": 39,
     "metadata": {},
     "output_type": "execute_result"
    }
   ],
   "source": [
    "arr = arr.reshape(3, 33)\n",
    "arr.shape"
   ]
  },
  {
   "cell_type": "markdown",
   "id": "3a34ffb8-e3a3-4154-899b-5de1ffdd2fb6",
   "metadata": {},
   "source": [
    "## 8. Transforming an array to 1D array"
   ]
  },
  {
   "cell_type": "code",
   "execution_count": 40,
   "id": "d838dc57-1bb6-424b-93df-b579d2400455",
   "metadata": {},
   "outputs": [],
   "source": [
    "arr = arr.ravel()"
   ]
  },
  {
   "cell_type": "code",
   "execution_count": 42,
   "id": "bc0b2d4a-39e0-4259-acdf-8295cd95237c",
   "metadata": {},
   "outputs": [
    {
     "data": {
      "text/plain": [
       "(99,)"
      ]
     },
     "execution_count": 42,
     "metadata": {},
     "output_type": "execute_result"
    }
   ],
   "source": [
    "arr.shape"
   ]
  },
  {
   "cell_type": "markdown",
   "id": "7879bb96-7367-4bb4-84fb-f26ce6b10cde",
   "metadata": {},
   "source": [
    "## 9. Finding sum of elements"
   ]
  },
  {
   "cell_type": "code",
   "execution_count": 51,
   "id": "5af3780c-574c-4577-93b2-e4debd9e8f66",
   "metadata": {},
   "outputs": [],
   "source": [
    "x = [[1, 2, 3], [4, 5, 6], [7, 1, 0]]"
   ]
  },
  {
   "cell_type": "code",
   "execution_count": 52,
   "id": "34d8aa36-28c2-40b3-ac63-88ff44885a86",
   "metadata": {},
   "outputs": [
    {
     "data": {
      "text/plain": [
       "array([[1, 2, 3],\n",
       "       [4, 5, 6],\n",
       "       [7, 1, 0]])"
      ]
     },
     "execution_count": 52,
     "metadata": {},
     "output_type": "execute_result"
    }
   ],
   "source": [
    "arr = np.array(x)\n",
    "arr"
   ]
  },
  {
   "cell_type": "code",
   "execution_count": 53,
   "id": "f280b737-3c6e-402d-9fce-57e5eb2412e2",
   "metadata": {},
   "outputs": [
    {
     "data": {
      "text/plain": [
       "array([ 6, 15,  8])"
      ]
     },
     "execution_count": 53,
     "metadata": {},
     "output_type": "execute_result"
    }
   ],
   "source": [
    "arr.sum(axis = 0) # rowwise\n",
    "arr.sum(axis = 1) # columnwise"
   ]
  },
  {
   "cell_type": "markdown",
   "id": "d0b54122-dc9b-40fb-8470-37189bf9f8a7",
   "metadata": {},
   "source": [
    "## 10. Transpose of array"
   ]
  },
  {
   "cell_type": "code",
   "execution_count": 54,
   "id": "0d47377a-b384-4053-86b7-610989348c84",
   "metadata": {},
   "outputs": [
    {
     "data": {
      "text/plain": [
       "array([[1, 4, 7],\n",
       "       [2, 5, 1],\n",
       "       [3, 6, 0]])"
      ]
     },
     "execution_count": 54,
     "metadata": {},
     "output_type": "execute_result"
    }
   ],
   "source": [
    "arr.T"
   ]
  },
  {
   "cell_type": "markdown",
   "id": "1c692df9-980f-4d42-afb7-d4c5f840ef8b",
   "metadata": {},
   "source": [
    "# 11. iterate over an array"
   ]
  },
  {
   "cell_type": "code",
   "execution_count": 55,
   "id": "e7346379-b716-4b88-bad9-9dbe2d38b25a",
   "metadata": {},
   "outputs": [
    {
     "name": "stdout",
     "output_type": "stream",
     "text": [
      "1\n",
      "2\n",
      "3\n",
      "4\n",
      "5\n",
      "6\n",
      "7\n",
      "1\n",
      "0\n"
     ]
    }
   ],
   "source": [
    "for item in arr.flat:\n",
    "    print(item)"
   ]
  },
  {
   "cell_type": "markdown",
   "id": "1e81573b-fdbb-43ec-872f-0bb0acf63781",
   "metadata": {},
   "source": [
    "## 12. Get dimensions of an array"
   ]
  },
  {
   "cell_type": "code",
   "execution_count": 56,
   "id": "f6c89f4b-6996-4882-825e-e2ddef0bded7",
   "metadata": {},
   "outputs": [
    {
     "data": {
      "text/plain": [
       "2"
      ]
     },
     "execution_count": 56,
     "metadata": {},
     "output_type": "execute_result"
    }
   ],
   "source": [
    "arr.ndim"
   ]
  },
  {
   "cell_type": "markdown",
   "id": "32baa104-9fdc-4eed-a5c1-0d39648fde27",
   "metadata": {},
   "source": [
    "## 13. Get the number of elements in array"
   ]
  },
  {
   "cell_type": "code",
   "execution_count": 57,
   "id": "ebf42f08-3ffd-4348-99a0-99e7a4a00b1a",
   "metadata": {},
   "outputs": [
    {
     "data": {
      "text/plain": [
       "9"
      ]
     },
     "execution_count": 57,
     "metadata": {},
     "output_type": "execute_result"
    }
   ],
   "source": [
    "arr.size"
   ]
  },
  {
   "cell_type": "markdown",
   "id": "96301704-0c61-491c-a9b0-772dc0e3da5c",
   "metadata": {},
   "source": [
    "## 14. Get the total bytes consumed by an array"
   ]
  },
  {
   "cell_type": "code",
   "execution_count": 58,
   "id": "ae774e56-21c0-4392-8429-a4687203b810",
   "metadata": {},
   "outputs": [
    {
     "data": {
      "text/plain": [
       "72"
      ]
     },
     "execution_count": 58,
     "metadata": {},
     "output_type": "execute_result"
    }
   ],
   "source": [
    "arr.nbytes"
   ]
  },
  {
   "cell_type": "markdown",
   "id": "cf84a812-bd5d-4022-b506-a7537cec3d98",
   "metadata": {},
   "source": [
    "## 15. Get the index of largest element"
   ]
  },
  {
   "cell_type": "code",
   "execution_count": 59,
   "id": "928b574a-7e12-43ca-8260-09061f3466ee",
   "metadata": {},
   "outputs": [],
   "source": [
    "one =  np.array([1, 3, 4, 634, 2])"
   ]
  },
  {
   "cell_type": "code",
   "execution_count": 60,
   "id": "e4623db2-7bb4-481b-9823-910c1f32da58",
   "metadata": {},
   "outputs": [
    {
     "data": {
      "text/plain": [
       "np.int64(3)"
      ]
     },
     "execution_count": 60,
     "metadata": {},
     "output_type": "execute_result"
    }
   ],
   "source": [
    "one.argmax()"
   ]
  },
  {
   "cell_type": "markdown",
   "id": "61732625-891e-4230-90a1-abfc1fb569af",
   "metadata": {},
   "source": [
    "## 15. Get the index of smallest element"
   ]
  },
  {
   "cell_type": "code",
   "execution_count": 62,
   "id": "0fd086c2-3f47-4474-9ce0-6efcec795d2d",
   "metadata": {},
   "outputs": [
    {
     "data": {
      "text/plain": [
       "np.int64(0)"
      ]
     },
     "execution_count": 62,
     "metadata": {},
     "output_type": "execute_result"
    }
   ],
   "source": [
    "one.argmin()"
   ]
  },
  {
   "cell_type": "markdown",
   "id": "7e0aef8e-8aed-4219-99df-d7f110d736c4",
   "metadata": {},
   "source": [
    "## 16. Get the indexes of elements which will sort the array"
   ]
  },
  {
   "cell_type": "code",
   "execution_count": 61,
   "id": "9fe8dc8a-9a51-4241-981f-4e9bb566ab56",
   "metadata": {},
   "outputs": [
    {
     "data": {
      "text/plain": [
       "array([0, 4, 1, 2, 3])"
      ]
     },
     "execution_count": 61,
     "metadata": {},
     "output_type": "execute_result"
    }
   ],
   "source": [
    "one.argsort()"
   ]
  },
  {
   "cell_type": "markdown",
   "id": "6ca615ba-52b9-4af9-ae69-120a46238fc8",
   "metadata": {},
   "source": [
    "## 17. Mathematical operators"
   ]
  },
  {
   "cell_type": "code",
   "execution_count": 71,
   "id": "6c97c350-c87b-48f8-a208-bbfdea9998f9",
   "metadata": {},
   "outputs": [
    {
     "data": {
      "text/plain": [
       "array([[1, 2, 3],\n",
       "       [4, 5, 6],\n",
       "       [7, 1, 0]])"
      ]
     },
     "execution_count": 71,
     "metadata": {},
     "output_type": "execute_result"
    }
   ],
   "source": [
    "ar = np.array([[1, 2, 3], [4, 5, 6], [7, 1, 0]])\n",
    "ar"
   ]
  },
  {
   "cell_type": "code",
   "execution_count": 72,
   "id": "710b3af7-1f0f-425d-95aa-8a61af8dc7d4",
   "metadata": {},
   "outputs": [
    {
     "data": {
      "text/plain": [
       "array([[1, 2, 1],\n",
       "       [4, 0, 6],\n",
       "       [8, 1, 0]])"
      ]
     },
     "execution_count": 72,
     "metadata": {},
     "output_type": "execute_result"
    }
   ],
   "source": [
    "ar2 = np.array([[1, 2, 1], [4, 0, 6], [8, 1, 0]])\n",
    "ar2"
   ]
  },
  {
   "cell_type": "code",
   "execution_count": 73,
   "id": "68cceaae-d6a5-4cbe-bc08-7600c4a0f029",
   "metadata": {},
   "outputs": [
    {
     "data": {
      "text/plain": [
       "array([[ 2,  4,  4],\n",
       "       [ 8,  5, 12],\n",
       "       [15,  2,  0]])"
      ]
     },
     "execution_count": 73,
     "metadata": {},
     "output_type": "execute_result"
    }
   ],
   "source": [
    "# adding two arrays\n",
    "ar + ar2"
   ]
  },
  {
   "cell_type": "code",
   "execution_count": 74,
   "id": "349fd455-de2a-4f0d-8542-b7b7338335a4",
   "metadata": {},
   "outputs": [
    {
     "data": {
      "text/plain": [
       "array([[ 1,  4,  3],\n",
       "       [16,  0, 36],\n",
       "       [56,  1,  0]])"
      ]
     },
     "execution_count": 74,
     "metadata": {},
     "output_type": "execute_result"
    }
   ],
   "source": [
    "# multiplying two arrays\n",
    "ar * ar2"
   ]
  },
  {
   "cell_type": "code",
   "execution_count": 75,
   "id": "ce07aebc-6ae5-4c4e-b797-e5d6b3907d7e",
   "metadata": {},
   "outputs": [
    {
     "data": {
      "text/plain": [
       "array([[1.        , 1.41421356, 1.73205081],\n",
       "       [2.        , 2.23606798, 2.44948974],\n",
       "       [2.64575131, 1.        , 0.        ]])"
      ]
     },
     "execution_count": 75,
     "metadata": {},
     "output_type": "execute_result"
    }
   ],
   "source": [
    "# find element-wise square root\n",
    "np.sqrt(ar)"
   ]
  },
  {
   "cell_type": "code",
   "execution_count": 76,
   "id": "c45ab128-7b04-4b69-be17-20a4f81f42d2",
   "metadata": {},
   "outputs": [
    {
     "data": {
      "text/plain": [
       "np.int64(29)"
      ]
     },
     "execution_count": 76,
     "metadata": {},
     "output_type": "execute_result"
    }
   ],
   "source": [
    "# find the sum of all elements\n",
    "ar.sum()"
   ]
  },
  {
   "cell_type": "code",
   "execution_count": 77,
   "id": "3da7264a-1425-4d16-b145-9f01dcd9de52",
   "metadata": {},
   "outputs": [
    {
     "data": {
      "text/plain": [
       "np.int64(7)"
      ]
     },
     "execution_count": 77,
     "metadata": {},
     "output_type": "execute_result"
    }
   ],
   "source": [
    "# get the largest element in array\n",
    "ar.max()"
   ]
  },
  {
   "cell_type": "code",
   "execution_count": 78,
   "id": "5c98532c-eca1-41d4-8928-2682b49a00f3",
   "metadata": {},
   "outputs": [
    {
     "data": {
      "text/plain": [
       "np.int64(0)"
      ]
     },
     "execution_count": 78,
     "metadata": {},
     "output_type": "execute_result"
    }
   ],
   "source": [
    "# get the smallest element in array\n",
    "ar.min()"
   ]
  },
  {
   "cell_type": "code",
   "execution_count": 80,
   "id": "ef096d96-3eaa-49ee-8912-80b73e223d0a",
   "metadata": {},
   "outputs": [
    {
     "data": {
      "text/plain": [
       "8"
      ]
     },
     "execution_count": 80,
     "metadata": {},
     "output_type": "execute_result"
    }
   ],
   "source": [
    "# get the total number of non-zero elements in arrya\n",
    "np.count_nonzero(ar)"
   ]
  },
  {
   "cell_type": "markdown",
   "id": "f4904ed2-d761-4e4f-81ae-cbb653802de8",
   "metadata": {},
   "source": [
    "## 18. Filtering elements "
   ]
  },
  {
   "cell_type": "code",
   "execution_count": 79,
   "id": "d05608da-6eb6-4b98-8d2a-8bf30af0e00a",
   "metadata": {},
   "outputs": [
    {
     "data": {
      "text/plain": [
       "(array([1, 2]), array([2, 0]))"
      ]
     },
     "execution_count": 79,
     "metadata": {},
     "output_type": "execute_result"
    }
   ],
   "source": [
    "# find indexes of elements that satisfy the condition\n",
    "np.where(ar > 5)"
   ]
  },
  {
   "cell_type": "markdown",
   "id": "f987cdbf-72cf-4c34-b76a-efd012cab69b",
   "metadata": {},
   "source": [
    "## 20. Proving numpy is storage effiecent"
   ]
  },
  {
   "cell_type": "code",
   "execution_count": 82,
   "id": "522f937c-da6f-46a5-b0f3-b6d3c2c0f51d",
   "metadata": {},
   "outputs": [],
   "source": [
    "import sys"
   ]
  },
  {
   "cell_type": "code",
   "execution_count": 90,
   "id": "5c2fc57a-6ac1-4cc8-ab7f-53f885138454",
   "metadata": {},
   "outputs": [],
   "source": [
    "py_ar = [0, 4, 55, 2]"
   ]
  },
  {
   "cell_type": "code",
   "execution_count": 91,
   "id": "c141cb10-f89a-4678-bc3b-8b547045e813",
   "metadata": {},
   "outputs": [],
   "source": [
    "np_arr = np.array(py_ar)"
   ]
  },
  {
   "cell_type": "code",
   "execution_count": 92,
   "id": "8e1b3a0a-0e41-4cfa-afbc-049c2c91e9fc",
   "metadata": {},
   "outputs": [
    {
     "data": {
      "text/plain": [
       "112"
      ]
     },
     "execution_count": 92,
     "metadata": {},
     "output_type": "execute_result"
    }
   ],
   "source": [
    "sys.getsizeof(1) * len(py_ar)"
   ]
  },
  {
   "cell_type": "code",
   "execution_count": 93,
   "id": "6ee16ee5-afc0-402d-992b-8e8c1cb50102",
   "metadata": {},
   "outputs": [
    {
     "data": {
      "text/plain": [
       "32"
      ]
     },
     "execution_count": 93,
     "metadata": {},
     "output_type": "execute_result"
    }
   ],
   "source": [
    "np_arr.itemsize * np_arr.size"
   ]
  },
  {
   "cell_type": "code",
   "execution_count": null,
   "id": "62ae4445-071b-43fa-ad18-28810bcff9db",
   "metadata": {},
   "outputs": [],
   "source": []
  }
 ],
 "metadata": {
  "kernelspec": {
   "display_name": "Python 3 (ipykernel)",
   "language": "python",
   "name": "python3"
  },
  "language_info": {
   "codemirror_mode": {
    "name": "ipython",
    "version": 3
   },
   "file_extension": ".py",
   "mimetype": "text/x-python",
   "name": "python",
   "nbconvert_exporter": "python",
   "pygments_lexer": "ipython3",
   "version": "3.12.4"
  }
 },
 "nbformat": 4,
 "nbformat_minor": 5
}
