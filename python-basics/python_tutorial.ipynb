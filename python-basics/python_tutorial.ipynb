{
 "cells": [
  {
   "cell_type": "markdown",
   "id": "c7838b27",
   "metadata": {},
   "source": [
    "## Python Basics"
   ]
  },
  {
   "cell_type": "markdown",
   "id": "24395602",
   "metadata": {},
   "source": [
    "### 1. Print statement"
   ]
  },
  {
   "cell_type": "code",
   "execution_count": 2,
   "id": "4f156abd",
   "metadata": {},
   "outputs": [
    {
     "name": "stdout",
     "output_type": "stream",
     "text": [
      "Hello world\n"
     ]
    }
   ],
   "source": [
    "print(\"Hello world\")"
   ]
  },
  {
   "cell_type": "code",
   "execution_count": 4,
   "id": "82affaab",
   "metadata": {},
   "outputs": [
    {
     "name": "stdout",
     "output_type": "stream",
     "text": [
      "   /|\n",
      "  / |\n",
      " /  |\n",
      "/   |\n"
     ]
    }
   ],
   "source": [
    "print(\"   /|\")\n",
    "print(\"  / |\")  \n",
    "print(\" /  |\")\n",
    "print(\"/   |\")"
   ]
  },
  {
   "cell_type": "code",
   "execution_count": 5,
   "id": "c99d4e61",
   "metadata": {},
   "outputs": [
    {
     "name": "stdout",
     "output_type": "stream",
     "text": [
      "My name is Pranjal Shukla and I'm 25 years old\n"
     ]
    }
   ],
   "source": [
    "print(\"My name is Pranjal Shukla and I'm 25 years old\")"
   ]
  },
  {
   "cell_type": "markdown",
   "id": "6ed00c1c",
   "metadata": {},
   "source": [
    "### 2. variables"
   ]
  },
  {
   "cell_type": "code",
   "execution_count": 20,
   "id": "811a69e5",
   "metadata": {},
   "outputs": [
    {
     "name": "stdout",
     "output_type": "stream",
     "text": [
      "There once was a name named John, \n",
      "he was 50 years old\n",
      "He really liked the name Tom\n",
      "but didn´t like being 50\n"
     ]
    }
   ],
   "source": [
    "character_name = \"John\"\n",
    "character_age = \"50\"\n",
    "is_male = True\n",
    "\n",
    "print(\"There once was a name named \" + character_name + \", \")\n",
    "print(\"he was \" + character_age + \" years old\")\n",
    "\n",
    "character_name = \"Tom\"\n",
    "\n",
    "print(\"He really liked the name \" + character_name)\n",
    "print(\"but didn´t like being \" + character_age)"
   ]
  },
  {
   "cell_type": "markdown",
   "id": "659eb373",
   "metadata": {},
   "source": [
    "### 3. Working with strings"
   ]
  },
  {
   "cell_type": "code",
   "execution_count": 24,
   "id": "0580dc26",
   "metadata": {},
   "outputs": [
    {
     "name": "stdout",
     "output_type": "stream",
     "text": [
      "Giraffe\n",
      "Academy\n",
      "Giraffe\"Academy\n",
      "Giraffe\\Academy\n"
     ]
    }
   ],
   "source": [
    "print(\"Giraffe\\nAcademy\")\n",
    "print(\"Giraffe\\\"Academy\")\n",
    "print(\"Giraffe\\\\Academy\")"
   ]
  },
  {
   "cell_type": "code",
   "execution_count": 39,
   "id": "f8e2caa6",
   "metadata": {},
   "outputs": [
    {
     "name": "stdout",
     "output_type": "stream",
     "text": [
      "Giraffe Academy is cool\n",
      "giraffe academy\n",
      "GIRAFFE ACADEMY\n",
      "False\n",
      "True\n",
      "15\n",
      "G\n",
      "0\n",
      "3\n",
      "8\n",
      "Elephant Academy\n"
     ]
    }
   ],
   "source": [
    "phrase = \"Giraffe Academy\"\n",
    "print(phrase + \" is cool\")\n",
    "print(phrase.lower())\n",
    "print(phrase.upper())\n",
    "print(phrase.isupper())\n",
    "print(phrase.upper().isupper())\n",
    "print(len(phrase))\n",
    "print(phrase[0])\n",
    "print(phrase.index(\"G\"))\n",
    "print(phrase.index(\"a\"))\n",
    "print(phrase.index(\"Academy\"))\n",
    "print(phrase.replace(\"Giraffe\", \"Elephant\"))"
   ]
  },
  {
   "cell_type": "markdown",
   "id": "2a6899f3",
   "metadata": {},
   "source": [
    "### 4. Working with numbers"
   ]
  },
  {
   "cell_type": "code",
   "execution_count": 48,
   "id": "2636945b",
   "metadata": {},
   "outputs": [
    {
     "name": "stdout",
     "output_type": "stream",
     "text": [
      "2\n",
      "2.0987\n",
      "-2.982\n",
      "7\n",
      "12\n",
      "17\n",
      "27\n",
      "1\n"
     ]
    }
   ],
   "source": [
    "print(2)\n",
    "print(2.0987)\n",
    "print(-2.982)\n",
    "print(3 + 4)\n",
    "print(3 * 4)\n",
    "print(3 * 4 + 5)\n",
    "print(3 * (4 + 5))\n",
    "print(10 % 3)"
   ]
  },
  {
   "cell_type": "code",
   "execution_count": 64,
   "id": "29c11a37",
   "metadata": {},
   "outputs": [
    {
     "name": "stdout",
     "output_type": "stream",
     "text": [
      "-5\n",
      "-5 my favorite number\n",
      "5\n",
      "9.0\n",
      "6\n",
      "4\n",
      "3\n",
      "4\n",
      "3\n",
      "4\n",
      "4.0\n"
     ]
    }
   ],
   "source": [
    "from math import *\n",
    "my_num = -5\n",
    "print(my_num)\n",
    "print(str(my_num) + \" my favorite number\")\n",
    "print(abs(my_num))\n",
    "print(pow(3,2))\n",
    "print(max(4,6))\n",
    "print(min(4,6))\n",
    "print(round(3.2))\n",
    "print(round(3.7))\n",
    "print(floor(3.7))\n",
    "print(ceil(3.7))\n",
    "print(sqrt(16))"
   ]
  },
  {
   "cell_type": "markdown",
   "id": "e7b0b92f",
   "metadata": {},
   "source": [
    "### 5. Getting Input From Users"
   ]
  },
  {
   "cell_type": "code",
   "execution_count": 68,
   "id": "11822ea8",
   "metadata": {},
   "outputs": [
    {
     "name": "stdout",
     "output_type": "stream",
     "text": [
      "Enter your name: Pranjal\n",
      "Enter your age: 25\n",
      "Hello Pranjal! You are 25\n"
     ]
    }
   ],
   "source": [
    "name = input(\"Enter your name: \")\n",
    "age = input(\"Enter your age: \")\n",
    "print(\"Hello \" + name + \"! You are \" + age)"
   ]
  },
  {
   "cell_type": "markdown",
   "id": "adab45e5",
   "metadata": {},
   "source": [
    "### 6. Buidling a calculator"
   ]
  },
  {
   "cell_type": "code",
   "execution_count": 72,
   "id": "6adfca49",
   "metadata": {},
   "outputs": [
    {
     "name": "stdout",
     "output_type": "stream",
     "text": [
      "Enter a number: 3.5\n",
      "Enter another number: 4\n",
      "7.5\n"
     ]
    }
   ],
   "source": [
    "num1 = input(\"Enter a number: \")\n",
    "num2 = input(\"Enter another number: \")\n",
    "result = float(num1) + float(num2)\n",
    "print(result)"
   ]
  },
  {
   "cell_type": "markdown",
   "id": "5bc33cc5",
   "metadata": {},
   "source": [
    "### 7. Building Mad Libs Game"
   ]
  },
  {
   "cell_type": "code",
   "execution_count": 74,
   "id": "cd7eecdf",
   "metadata": {},
   "outputs": [
    {
     "name": "stdout",
     "output_type": "stream",
     "text": [
      "Enter a color: red\n",
      "Enter a plural noun: lotus\n",
      "Enter a celebrity: emma\n",
      "Roses are red\n",
      "lotus are blue\n",
      "I love emma\n"
     ]
    }
   ],
   "source": [
    "color = input(\"Enter a color: \")\n",
    "plural_noun = input(\"Enter a plural noun: \")\n",
    "celebrity = input(\"Enter a celebrity: \")\n",
    "\n",
    "print(\"Roses are \" + color)\n",
    "print(plural_noun + \" are blue\")\n",
    "print(\"I love \" + celebrity)"
   ]
  },
  {
   "cell_type": "markdown",
   "id": "6327a5da",
   "metadata": {},
   "source": [
    "### 8. Lists"
   ]
  },
  {
   "cell_type": "code",
   "execution_count": 80,
   "id": "fab7ab11",
   "metadata": {},
   "outputs": [
    {
     "name": "stdout",
     "output_type": "stream",
     "text": [
      "['Kevin', 'Karen', 'Jim', 'Oscar', 'Toby']\n",
      "Kevin\n",
      "Toby\n",
      "['Karen', 'Jim', 'Oscar', 'Toby']\n",
      "Mike\n"
     ]
    }
   ],
   "source": [
    "friends = [\"Kevin\", \"Karen\", \"Jim\", \"Oscar\", \"Toby\"]\n",
    "print(friends)\n",
    "print(friends[0])\n",
    "print(friends[-1])\n",
    "print(friends[1:])\n",
    "friends[1] = \"Mike\"\n",
    "print(friends[1])"
   ]
  },
  {
   "cell_type": "markdown",
   "id": "ca59e46d",
   "metadata": {},
   "source": [
    "### 9. List functions"
   ]
  },
  {
   "cell_type": "code",
   "execution_count": 96,
   "id": "c951680f",
   "metadata": {},
   "outputs": [
    {
     "name": "stdout",
     "output_type": "stream",
     "text": [
      "['Kevin', 'Karen', 'Jim', 'Jim', 'Oscar', 'Toby']\n",
      "['Kevin', 'Karen', 'Jim', 'Jim', 'Oscar', 'Toby']\n",
      "[4, 8, 199, 16, 23, 42]\n"
     ]
    }
   ],
   "source": [
    "lucky_numbers = [4, 8, 199, 16, 23, 42]\n",
    "friends = [\"Kevin\", \"Karen\", \"Jim\", \"Jim\", \"Oscar\", \"Toby\"]\n",
    "#friends.extend(lucky_numbers)\n",
    "#friends.append(\"Creed\")\n",
    "#friends.insert(1, \"Kevin\")\n",
    "#friends.remove(\"Jim\")\n",
    "#friends.clear()\n",
    "#friends.pop()\n",
    "#print(friends.index(\"Kevin\"))\n",
    "#print(friends.count(\"Jim\"))\n",
    "#friends.sort()\n",
    "#lucky_numbers.sort()\n",
    "#lucky_numbers.reverse()\n",
    "friends2 = friends.copy()\n",
    "print(friends)\n",
    "print(friends2)\n",
    "print(lucky_numbers)"
   ]
  },
  {
   "cell_type": "markdown",
   "id": "2826899b",
   "metadata": {},
   "source": [
    "### 10. Tuples"
   ]
  },
  {
   "cell_type": "code",
   "execution_count": 98,
   "id": "71cad8e1",
   "metadata": {},
   "outputs": [
    {
     "name": "stdout",
     "output_type": "stream",
     "text": [
      "4\n"
     ]
    }
   ],
   "source": [
    "# tuples are immutable\n",
    "coordinates = (4, 5)\n",
    "print(coordinates[0])"
   ]
  },
  {
   "cell_type": "code",
   "execution_count": 99,
   "id": "1b53c673",
   "metadata": {},
   "outputs": [
    {
     "name": "stdout",
     "output_type": "stream",
     "text": [
      "[(4, 5), (6, 7), (80, 94)]\n"
     ]
    }
   ],
   "source": [
    "coordinates = [(4,5), (6,7), (80, 94)]\n",
    "print(coordinates)"
   ]
  },
  {
   "cell_type": "markdown",
   "id": "91781d2d",
   "metadata": {},
   "source": [
    "### 11. Functions"
   ]
  },
  {
   "cell_type": "code",
   "execution_count": 105,
   "id": "f872a189",
   "metadata": {},
   "outputs": [
    {
     "name": "stdout",
     "output_type": "stream",
     "text": [
      "Hello Mike , you are 35\n"
     ]
    }
   ],
   "source": [
    "def say_hi(name, age):\n",
    "    print(\"Hello \" + name + \" , you are \" + str(age))\n",
    "    \n",
    "    \n",
    "say_hi(\"Mike\", 35)"
   ]
  },
  {
   "cell_type": "code",
   "execution_count": 109,
   "id": "22afbf6a",
   "metadata": {},
   "outputs": [
    {
     "name": "stdout",
     "output_type": "stream",
     "text": [
      "64\n"
     ]
    }
   ],
   "source": [
    "def cube(num):\n",
    "    return num*num*num\n",
    "\n",
    "result = cube(4)\n",
    "print(result)"
   ]
  },
  {
   "cell_type": "markdown",
   "id": "00513f09",
   "metadata": {},
   "source": [
    "### 12. If statements"
   ]
  },
  {
   "cell_type": "code",
   "execution_count": 112,
   "id": "c6c602a3",
   "metadata": {},
   "outputs": [
    {
     "name": "stdout",
     "output_type": "stream",
     "text": [
      "You are a female\n"
     ]
    }
   ],
   "source": [
    "is_male = False\n",
    "\n",
    "if is_male:\n",
    "    print(\"You are a male\")\n",
    "else:\n",
    "    print(\"You are a female\")"
   ]
  },
  {
   "cell_type": "code",
   "execution_count": 115,
   "id": "036aff22",
   "metadata": {},
   "outputs": [
    {
     "name": "stdout",
     "output_type": "stream",
     "text": [
      "You are neither male nor tall\n"
     ]
    }
   ],
   "source": [
    "is_male = False\n",
    "is_tall = True\n",
    "\n",
    "if is_male or is_tall:\n",
    "    print(\"You are a male or tall or both\")\n",
    "else:\n",
    "    print(\"You are neither male nor tall\")"
   ]
  },
  {
   "cell_type": "code",
   "execution_count": 117,
   "id": "efa5d848",
   "metadata": {},
   "outputs": [
    {
     "name": "stdout",
     "output_type": "stream",
     "text": [
      "You are a tall male\n"
     ]
    }
   ],
   "source": [
    "is_male = True\n",
    "is_tall = True\n",
    "\n",
    "if is_male and is_tall:\n",
    "    print(\"You are a tall male\")\n",
    "else:\n",
    "    print(\"You are either not male or not tall or both\")"
   ]
  },
  {
   "cell_type": "code",
   "execution_count": 122,
   "id": "e48518fd",
   "metadata": {},
   "outputs": [
    {
     "name": "stdout",
     "output_type": "stream",
     "text": [
      "You are not a male but are tall\n"
     ]
    }
   ],
   "source": [
    "is_male = False\n",
    "is_tall = True\n",
    "\n",
    "if is_male and is_tall:\n",
    "    print(\"You are a tall male\")\n",
    "elif is_male and not is_tall:\n",
    "    print(\"You are a short male\")\n",
    "elif not is_male and is_tall:\n",
    "    print(\"You are not a male but are tall\")\n",
    "else:\n",
    "    print(\"You are neither not male or not tall\")"
   ]
  },
  {
   "cell_type": "markdown",
   "id": "6e7516ac",
   "metadata": {},
   "source": [
    "### 13. if statements and comparisons"
   ]
  },
  {
   "cell_type": "code",
   "execution_count": 1,
   "id": "409cd2f7",
   "metadata": {},
   "outputs": [
    {
     "name": "stdout",
     "output_type": "stream",
     "text": [
      "5\n"
     ]
    }
   ],
   "source": [
    "def max_num(num1, num2, num3):\n",
    "    if num1 >= num2 and num1 >= num3:\n",
    "        return num1\n",
    "    elif num2 >= num1 and num1 >= num3:\n",
    "        return num2\n",
    "    else:\n",
    "        return num3\n",
    "\n",
    "print(max_num(3,4,5))"
   ]
  },
  {
   "cell_type": "markdown",
   "id": "51862934",
   "metadata": {},
   "source": [
    "### 14. Building a better calculator"
   ]
  },
  {
   "cell_type": "code",
   "execution_count": 2,
   "id": "7db6a323",
   "metadata": {},
   "outputs": [
    {
     "name": "stdout",
     "output_type": "stream",
     "text": [
      "Enter first number: 3\n",
      "Enter second numbeer: 5\n",
      "Enter operator: *\n",
      "15.0\n"
     ]
    }
   ],
   "source": [
    "num1 = float(input(\"Enter first number: \"))\n",
    "num2 = float(input(\"Enter second numbeer: \"))\n",
    "op = input(\"Enter operator: \")\n",
    "\n",
    "if op == \"+\":\n",
    "    print(num1 + num2)\n",
    "elif op == \"-\":\n",
    "    print(num1 - num2)\n",
    "elif op == \"/\":\n",
    "    print(num1 / num2)\n",
    "elif op == \"*\":\n",
    "    print(num1 * num2)\n",
    "else:\n",
    "    print(\"Invalid operator\")\n",
    "    \n"
   ]
  },
  {
   "cell_type": "markdown",
   "id": "d7792fa7",
   "metadata": {},
   "source": [
    "### 15. Dictionaries"
   ]
  },
  {
   "cell_type": "code",
   "execution_count": 3,
   "id": "6f5b1910",
   "metadata": {},
   "outputs": [
    {
     "name": "stdout",
     "output_type": "stream",
     "text": [
      "November\n",
      "December\n",
      "Not a valid key\n"
     ]
    }
   ],
   "source": [
    "month_conversions = {\n",
    "    \"Jan\": \"January\",\n",
    "    \"Feb\": \"February\",\n",
    "    \"Mar\": \"March\",\n",
    "    \"Apr\": \"April\",\n",
    "    \"May\": \"May\",\n",
    "    \"Jun\": \"June\",\n",
    "    \"Jul\": \"July\",\n",
    "    \"Aug\": \"August\",\n",
    "    \"Sep\": \"September\",\n",
    "    \"Oct\": \"October\",\n",
    "    \"Nov\": \"November\",\n",
    "    \"Dec\": \"December\"\n",
    "}\n",
    "\n",
    "print(month_conversions[\"Nov\"])\n",
    "print(month_conversions.get(\"Dec\"))\n",
    "print(month_conversions.get(\"Luv\", \"Not a valid key\"))"
   ]
  },
  {
   "cell_type": "markdown",
   "id": "158fed5e",
   "metadata": {},
   "source": [
    "### 16. While loop\n"
   ]
  },
  {
   "cell_type": "code",
   "execution_count": 5,
   "id": "68eed2e9",
   "metadata": {},
   "outputs": [
    {
     "name": "stdout",
     "output_type": "stream",
     "text": [
      "1\n",
      "2\n",
      "3\n",
      "4\n",
      "5\n",
      "6\n",
      "7\n",
      "8\n",
      "9\n",
      "10\n",
      "Done with loop\n"
     ]
    }
   ],
   "source": [
    "i = 1\n",
    "while i <= 10:\n",
    "    print(i)\n",
    "    i += 1\n",
    "\n",
    "print(\"Done with loop\")"
   ]
  },
  {
   "cell_type": "markdown",
   "id": "68ba6d2e",
   "metadata": {},
   "source": [
    "### 17. Buidling a guessing game"
   ]
  },
  {
   "cell_type": "code",
   "execution_count": 3,
   "id": "e93611e5",
   "metadata": {},
   "outputs": [
    {
     "name": "stdout",
     "output_type": "stream",
     "text": [
      "Enter guess: giraffe\n",
      "You win\n"
     ]
    }
   ],
   "source": [
    "secret_word = \"giraffe\"\n",
    "guess = \"\"\n",
    "guess_count = 0\n",
    "guess_limit = 3\n",
    "out_of_guesses = False\n",
    "\n",
    "while guess != secret_word and not(out_of_guesses):\n",
    "    if guess_count < guess_limit:\n",
    "        guess = input(\"Enter guess: \")\n",
    "        guess_count += 1\n",
    "    else:\n",
    "        out_of_guesses = True\n",
    "\n",
    "if out_of_guesses:\n",
    "    print(\"You loose\")\n",
    "else:\n",
    "    print(\"You win\")"
   ]
  },
  {
   "cell_type": "markdown",
   "id": "c8d58ec2",
   "metadata": {},
   "source": [
    "### 18. For loop"
   ]
  },
  {
   "cell_type": "code",
   "execution_count": 4,
   "id": "274aba46",
   "metadata": {},
   "outputs": [
    {
     "name": "stdout",
     "output_type": "stream",
     "text": [
      "G\n",
      "i\n",
      "r\n",
      "a\n",
      "f\n",
      "f\n",
      "e\n",
      " \n",
      "A\n",
      "c\n",
      "a\n",
      "d\n",
      "e\n",
      "m\n",
      "y\n"
     ]
    }
   ],
   "source": [
    "for letter in \"Giraffe Academy\":\n",
    "    print(letter)"
   ]
  },
  {
   "cell_type": "code",
   "execution_count": 5,
   "id": "1b4c3a14",
   "metadata": {},
   "outputs": [
    {
     "name": "stdout",
     "output_type": "stream",
     "text": [
      "Jim\n",
      "Karen\n",
      "Kevin\n"
     ]
    }
   ],
   "source": [
    "friends = [\"Jim\", \"Karen\", \"Kevin\"]\n",
    "for friend in friends:\n",
    "    print(friend)"
   ]
  },
  {
   "cell_type": "code",
   "execution_count": 6,
   "id": "436ae3d0",
   "metadata": {},
   "outputs": [
    {
     "name": "stdout",
     "output_type": "stream",
     "text": [
      "0\n",
      "1\n",
      "2\n",
      "3\n",
      "4\n",
      "5\n",
      "6\n",
      "7\n",
      "8\n",
      "9\n"
     ]
    }
   ],
   "source": [
    "for index in range(10):\n",
    "    print(index)"
   ]
  },
  {
   "cell_type": "code",
   "execution_count": 7,
   "id": "dab6671c",
   "metadata": {},
   "outputs": [
    {
     "name": "stdout",
     "output_type": "stream",
     "text": [
      "3\n",
      "4\n",
      "5\n",
      "6\n",
      "7\n",
      "8\n",
      "9\n"
     ]
    }
   ],
   "source": [
    "for index in range(3,10):\n",
    "    print(index)"
   ]
  },
  {
   "cell_type": "code",
   "execution_count": 8,
   "id": "ec6ad2e1",
   "metadata": {},
   "outputs": [
    {
     "name": "stdout",
     "output_type": "stream",
     "text": [
      "0\n",
      "1\n",
      "2\n"
     ]
    }
   ],
   "source": [
    "friends = [\"Jim\", \"Karen\", \"Kevin\"]\n",
    "for index in range(len(friends)):\n",
    "    print(index)"
   ]
  },
  {
   "cell_type": "code",
   "execution_count": 9,
   "id": "cc4b176e",
   "metadata": {},
   "outputs": [
    {
     "name": "stdout",
     "output_type": "stream",
     "text": [
      "First iteration\n",
      "Not first\n",
      "Not first\n",
      "Not first\n",
      "Not first\n"
     ]
    }
   ],
   "source": [
    "for index in range(5):\n",
    "    if index == 0:\n",
    "        print(\"First iteration\")\n",
    "    else:\n",
    "        print(\"Not first\")"
   ]
  },
  {
   "cell_type": "markdown",
   "id": "ae96a63c",
   "metadata": {},
   "source": [
    "### 19. Exponent function"
   ]
  },
  {
   "cell_type": "code",
   "execution_count": 11,
   "id": "32fcfb14",
   "metadata": {},
   "outputs": [
    {
     "name": "stdout",
     "output_type": "stream",
     "text": [
      "8\n"
     ]
    }
   ],
   "source": [
    "def raise_to_power(base_num, pow_num):\n",
    "    result = 1\n",
    "    for index in range(pow_num):\n",
    "        result = result * base_num\n",
    "    return result\n",
    "\n",
    "print(raise_to_power(2,3))"
   ]
  },
  {
   "cell_type": "markdown",
   "id": "e1ecdcf3",
   "metadata": {},
   "source": [
    "### 19. 2D lists and Nested loops"
   ]
  },
  {
   "cell_type": "code",
   "execution_count": 13,
   "id": "e29a6409",
   "metadata": {},
   "outputs": [
    {
     "name": "stdout",
     "output_type": "stream",
     "text": [
      "8\n"
     ]
    }
   ],
   "source": [
    "number_grid = [\n",
    "    [1, 2, 3],\n",
    "    [4, 5, 6],\n",
    "    [7, 8, 9],\n",
    "    [0]\n",
    "]\n",
    "\n",
    "print(number_grid[2][1])"
   ]
  },
  {
   "cell_type": "code",
   "execution_count": 16,
   "id": "2aff744d",
   "metadata": {},
   "outputs": [
    {
     "name": "stdout",
     "output_type": "stream",
     "text": [
      "1\n",
      "2\n",
      "3\n",
      "4\n",
      "5\n",
      "6\n",
      "7\n",
      "8\n",
      "9\n",
      "0\n"
     ]
    }
   ],
   "source": [
    "number_grid = [\n",
    "    [1, 2, 3],\n",
    "    [4, 5, 6],\n",
    "    [7, 8, 9],\n",
    "    [0]\n",
    "]\n",
    "\n",
    "for row in number_grid:\n",
    "    for col in row:\n",
    "        print(col)"
   ]
  },
  {
   "cell_type": "markdown",
   "id": "b7ac5c46",
   "metadata": {},
   "source": [
    "### 20. Building a translator"
   ]
  },
  {
   "cell_type": "code",
   "execution_count": 22,
   "id": "1857dfff",
   "metadata": {},
   "outputs": [
    {
     "name": "stdout",
     "output_type": "stream",
     "text": [
      "Enter a phrase: GAB\n",
      "GGB\n"
     ]
    }
   ],
   "source": [
    "def translate(phrase):\n",
    "    translation = \"\"\n",
    "    for letter in phrase:\n",
    "        if letter.lower() in \"AEIOUaeiou\":\n",
    "            if letter.isupper(): \n",
    "                translation = translation + \"G\"\n",
    "            else:\n",
    "                translation = translation + \"g\"\n",
    "        else:\n",
    "            translation = translation + letter\n",
    "    return translation\n",
    "\n",
    "print(translate(input(\"Enter a phrase: \")))"
   ]
  },
  {
   "cell_type": "markdown",
   "id": "f0ecb8fa",
   "metadata": {},
   "source": [
    "### 21. Comments"
   ]
  },
  {
   "cell_type": "code",
   "execution_count": 28,
   "id": "6780188b",
   "metadata": {},
   "outputs": [
    {
     "name": "stdout",
     "output_type": "stream",
     "text": [
      "Comments are fun\n"
     ]
    }
   ],
   "source": [
    "# This is a comment\n",
    "print(\"Comments are fun\")"
   ]
  },
  {
   "cell_type": "markdown",
   "id": "7aebbfb7",
   "metadata": {},
   "source": [
    "### 22. Try and Except"
   ]
  },
  {
   "cell_type": "code",
   "execution_count": 36,
   "id": "d80b35ba",
   "metadata": {},
   "outputs": [
    {
     "name": "stdout",
     "output_type": "stream",
     "text": [
      "Enter a number: aa\n",
      "Invalid input\n"
     ]
    }
   ],
   "source": [
    "try:\n",
    "    number = int(input(\"Enter a number: \"))\n",
    "    print(number)\n",
    "except ZeroDivisionError as err:\n",
    "    print(err)\n",
    "except ValueError:\n",
    "    print(\"Invalid input\")\n",
    "    \n"
   ]
  },
  {
   "cell_type": "markdown",
   "id": "bd7feb87",
   "metadata": {},
   "source": [
    "### 23. Reading files"
   ]
  },
  {
   "cell_type": "code",
   "execution_count": 44,
   "id": "ebd14bd9",
   "metadata": {},
   "outputs": [
    {
     "name": "stdout",
     "output_type": "stream",
     "text": [
      "True\n",
      "My name is Pranjal Shukla\n",
      "\n",
      "IÂ´m 25 years old\n"
     ]
    }
   ],
   "source": [
    "#opening and reading a file\n",
    "employee_file = open(\"employee.txt\", \"r\")\n",
    "print(employee_file.readable())\n",
    "#print(employee_file.read())\n",
    "#print(employee_file.readline())\n",
    "#print(employee_file.readlines())\n",
    "for employee in employee_file.readlines():\n",
    "    print(employee)\n",
    "\n",
    "# close a file\n",
    "employee_file.close()"
   ]
  },
  {
   "cell_type": "markdown",
   "id": "c73e71b1",
   "metadata": {},
   "source": [
    "### 24. Writing to files"
   ]
  },
  {
   "cell_type": "code",
   "execution_count": 48,
   "id": "52c302c0",
   "metadata": {},
   "outputs": [],
   "source": [
    "#opening and appending a file\n",
    "employee_file = open(\"employee.txt\", \"a\")\n",
    "employee_file.write(\"I´m an operations specialist\")\n",
    "employee_file.write(\"\\nI´m an operations specialist\")\n",
    "# close a file\n",
    "employee_file.close()"
   ]
  },
  {
   "cell_type": "code",
   "execution_count": 49,
   "id": "ddd54503",
   "metadata": {},
   "outputs": [],
   "source": [
    "#opening and writing a file\n",
    "employee_file = open(\"employee.txt\", \"w\")\n",
    "employee_file.write(\"I´m an operations specialist\")\n",
    "employee_file.write(\"\\nI´m an operations specialist\")\n",
    "# close a file\n",
    "employee_file.close()"
   ]
  },
  {
   "cell_type": "markdown",
   "id": "522616c2",
   "metadata": {},
   "source": [
    "### 25. Modules and pip"
   ]
  },
  {
   "cell_type": "code",
   "execution_count": 57,
   "id": "ccdeb851",
   "metadata": {},
   "outputs": [
    {
     "name": "stdout",
     "output_type": "stream",
     "text": [
      "pip 23.3.1 from C:\\Users\\pranj\\anaconda3\\Lib\\site-packages\\pip (python 3.11)\n",
      "\n",
      "Note: you may need to restart the kernel to use updated packages.\n"
     ]
    }
   ],
   "source": [
    "\n",
    "pip --version\n"
   ]
  },
  {
   "cell_type": "code",
   "execution_count": 55,
   "id": "92871fbd",
   "metadata": {},
   "outputs": [
    {
     "name": "stdout",
     "output_type": "stream",
     "text": [
      "Collecting python-docx\n",
      "  Downloading python_docx-1.1.2-py3-none-any.whl.metadata (2.0 kB)\n",
      "Requirement already satisfied: lxml>=3.1.0 in c:\\users\\pranj\\anaconda3\\lib\\site-packages (from python-docx) (4.9.3)\n",
      "Requirement already satisfied: typing-extensions>=4.9.0 in c:\\users\\pranj\\anaconda3\\lib\\site-packages (from python-docx) (4.9.0)\n",
      "Downloading python_docx-1.1.2-py3-none-any.whl (244 kB)\n",
      "   ---------------------------------------- 0.0/244.3 kB ? eta -:--:--\n",
      "   - -------------------------------------- 10.2/244.3 kB ? eta -:--:--\n",
      "   ------------------------------------ --- 225.3/244.3 kB 2.3 MB/s eta 0:00:01\n",
      "   ---------------------------------------- 244.3/244.3 kB 1.9 MB/s eta 0:00:00\n",
      "Installing collected packages: python-docx\n",
      "Successfully installed python-docx-1.1.2\n",
      "Note: you may need to restart the kernel to use updated packages.\n"
     ]
    }
   ],
   "source": [
    "pip install python-docx"
   ]
  },
  {
   "cell_type": "code",
   "execution_count": 1,
   "id": "0bf8bf90",
   "metadata": {},
   "outputs": [],
   "source": [
    "import docx"
   ]
  },
  {
   "cell_type": "code",
   "execution_count": 2,
   "id": "1c4791f4",
   "metadata": {},
   "outputs": [],
   "source": [
    "#pip uninstall python-docx"
   ]
  },
  {
   "cell_type": "markdown",
   "id": "092c29ed",
   "metadata": {},
   "source": [
    "### 26. Classes and Objects"
   ]
  },
  {
   "cell_type": "code",
   "execution_count": 6,
   "id": "513bfc78",
   "metadata": {},
   "outputs": [
    {
     "name": "stdout",
     "output_type": "stream",
     "text": [
      "<__main__.Student object at 0x0000029FF7E09910>\n",
      "Jim\n",
      "3.1\n",
      "Pam\n",
      "2.5\n"
     ]
    }
   ],
   "source": [
    "# student class\n",
    "class Student:\n",
    "    # initialization function\n",
    "    def __init__(self, name, major, gpa, is_on_probation):\n",
    "        # define and initialize class variables\n",
    "        self.name = name\n",
    "        self.major = major\n",
    "        self.gpa = gpa\n",
    "        self.is_on_probation = is_on_probation\n",
    "        \n",
    "student1 = Student(\"Jim\", \"Business\", 3.1, False)\n",
    "student2 = Student(\"Pam\", \"Art\", 2.5, True)\n",
    "print(student1)\n",
    "print(student1.name)\n",
    "print(student1.gpa)\n",
    "print(student2.name)\n",
    "print(student2.gpa)"
   ]
  },
  {
   "cell_type": "markdown",
   "id": "745bfbe0",
   "metadata": {},
   "source": [
    "### 27. Class Functions"
   ]
  },
  {
   "cell_type": "code",
   "execution_count": 2,
   "id": "be4f812a",
   "metadata": {},
   "outputs": [
    {
     "name": "stdout",
     "output_type": "stream",
     "text": [
      "False\n",
      "True\n"
     ]
    }
   ],
   "source": [
    "# student class\n",
    "class Student:\n",
    "    # initialization function\n",
    "    def __init__(self, name, major, gpa, is_on_probation):\n",
    "        # define and initialize class variables\n",
    "        self.name = name\n",
    "        self.major = major\n",
    "        self.gpa = gpa\n",
    "        self.is_on_probation = is_on_probation\n",
    "   \n",
    "    # class function\n",
    "    def on_honor_roll(self):\n",
    "        if self.gpa  >= 3.5:\n",
    "            return True\n",
    "        else:\n",
    "            return False\n",
    "        \n",
    "student1 = Student(\"Jim\", \"Business\", 3.1, False)\n",
    "student2 = Student(\"Pam\", \"Art\", 3.5, True)\n",
    "\n",
    "print(student1.on_honor_roll())\n",
    "print(student2.on_honor_roll())"
   ]
  },
  {
   "cell_type": "markdown",
   "id": "6fa5e42f",
   "metadata": {},
   "source": [
    "### 28. Inheritance"
   ]
  },
  {
   "cell_type": "code",
   "execution_count": 3,
   "id": "2e52927f",
   "metadata": {},
   "outputs": [],
   "source": [
    "class Chef:\n",
    "    \n",
    "    def make_chicken(self):\n",
    "        print(\"The chef makes a chicken\")\n",
    "        \n",
    "    def make_salad(self):\n",
    "        print(\"The chef makes a salad\")\n",
    "        \n",
    "    def make_special_dish(self):\n",
    "        print(\"The chef makes a bbq ribs\")"
   ]
  },
  {
   "cell_type": "code",
   "execution_count": 5,
   "id": "cfa49cc9",
   "metadata": {},
   "outputs": [
    {
     "name": "stdout",
     "output_type": "stream",
     "text": [
      "The chef makes a chicken\n",
      "The chef makes a bbq ribs\n"
     ]
    }
   ],
   "source": [
    "myChef = Chef()\n",
    "myChef.make_chicken()\n",
    "myChef.make_special_dish()"
   ]
  },
  {
   "cell_type": "code",
   "execution_count": 10,
   "id": "ed36a566",
   "metadata": {},
   "outputs": [
    {
     "name": "stdout",
     "output_type": "stream",
     "text": [
      "The chef makes noodles\n",
      "The chef makes fried rice\n"
     ]
    }
   ],
   "source": [
    "class ChineseChef(Chef):\n",
    "    def make_fried_rice(self):\n",
    "        print(\"The chef makes fried rice\")\n",
    "    \n",
    "    # method overriding\n",
    "    def make_special_dish(self):\n",
    "        print(\"The chef makes noodles\")\n",
    "        \n",
    "\n",
    "myChineseChef = ChineseChef()\n",
    "myChineseChef.make_special_dish()\n",
    "myChineseChef.make_fried_rice()\n",
    "    "
   ]
  },
  {
   "cell_type": "code",
   "execution_count": 11,
   "id": "3230ebd0",
   "metadata": {},
   "outputs": [],
   "source": [
    "class Person:\n",
    "    def __init__(self, fname, lname):\n",
    "        self.fname = fname\n",
    "        self.lname = lname\n",
    "    \n",
    "    def get_name(self):\n",
    "        print(\"The name of the person is \" + self.fname + \" \" + self.lname)"
   ]
  },
  {
   "cell_type": "code",
   "execution_count": 13,
   "id": "c0942d06",
   "metadata": {},
   "outputs": [],
   "source": [
    "class Student(Person):\n",
    "    \n",
    "    def __init__(self, fname, lname, year):\n",
    "        # invoke constructor of super class\n",
    "        super().__init__(fname, lname)\n",
    "        self.year = year\n",
    "        \n",
    "    def welcome(self):\n",
    "        print(\"Welcome \" + self.fname + \" \" + self.lname + \" to the class of \" + self.year)\n",
    "      "
   ]
  },
  {
   "cell_type": "code",
   "execution_count": 14,
   "id": "cf0ff405",
   "metadata": {},
   "outputs": [
    {
     "name": "stdout",
     "output_type": "stream",
     "text": [
      "Welcome Pranjal Shukla to the class of 2024\n"
     ]
    }
   ],
   "source": [
    "myStudent = Student(\"Pranjal\", \"Shukla\", \"2024\")\n",
    "myStudent.welcome()"
   ]
  },
  {
   "cell_type": "code",
   "execution_count": null,
   "id": "cc1abce2",
   "metadata": {},
   "outputs": [],
   "source": []
  }
 ],
 "metadata": {
  "kernelspec": {
   "display_name": "Python 3 (ipykernel)",
   "language": "python",
   "name": "python3"
  },
  "language_info": {
   "codemirror_mode": {
    "name": "ipython",
    "version": 3
   },
   "file_extension": ".py",
   "mimetype": "text/x-python",
   "name": "python",
   "nbconvert_exporter": "python",
   "pygments_lexer": "ipython3",
   "version": "3.11.7"
  }
 },
 "nbformat": 4,
 "nbformat_minor": 5
}
