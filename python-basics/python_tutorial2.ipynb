{
 "cells": [
  {
   "cell_type": "markdown",
   "id": "d3268c3e",
   "metadata": {},
   "source": [
    "### 1. Hello world program"
   ]
  },
  {
   "cell_type": "code",
   "execution_count": 1,
   "id": "9d47c4c3",
   "metadata": {},
   "outputs": [
    {
     "name": "stdout",
     "output_type": "stream",
     "text": [
      "Hello world\n"
     ]
    }
   ],
   "source": [
    "print(\"Hello world\")"
   ]
  },
  {
   "cell_type": "code",
   "execution_count": 3,
   "id": "53535ac2",
   "metadata": {},
   "outputs": [
    {
     "name": "stdout",
     "output_type": "stream",
     "text": [
      "o----\n",
      " ||||\n",
      "**********\n"
     ]
    }
   ],
   "source": [
    "print(\"o----\")\n",
    "print(\" ||||\")\n",
    "print(\"*\" * 10)"
   ]
  },
  {
   "cell_type": "markdown",
   "id": "92b4e11c",
   "metadata": {},
   "source": [
    "### 2. Variables"
   ]
  },
  {
   "cell_type": "code",
   "execution_count": 8,
   "id": "75a457f4",
   "metadata": {},
   "outputs": [
    {
     "name": "stdout",
     "output_type": "stream",
     "text": [
      "10\n"
     ]
    }
   ],
   "source": [
    "price = 10\n",
    "rating = 4.5\n",
    "name = \"Mosh\"\n",
    "is_published = True\n",
    "print(price)\n"
   ]
  },
  {
   "cell_type": "code",
   "execution_count": 9,
   "id": "d50e7d1c",
   "metadata": {},
   "outputs": [],
   "source": [
    "name = \"John Smith\"\n",
    "age = 20\n",
    "is_new = \"new patient\""
   ]
  },
  {
   "cell_type": "markdown",
   "id": "7946e7fc",
   "metadata": {},
   "source": [
    "### 3. Input from user"
   ]
  },
  {
   "cell_type": "code",
   "execution_count": 11,
   "id": "c547f89a",
   "metadata": {},
   "outputs": [
    {
     "name": "stdout",
     "output_type": "stream",
     "text": [
      "What is your name? Pranjal\n",
      "What is your favourite color? blue\n",
      "Pranjal likes blue\n"
     ]
    }
   ],
   "source": [
    "name = input(\"What is your name? \")\n",
    "favorite_color = input(\"What is your favourite color? \")\n",
    "print(name + \" likes \" + favorite_color)"
   ]
  },
  {
   "cell_type": "markdown",
   "id": "c5b5f91c",
   "metadata": {},
   "source": [
    "### 4. Type Conversion"
   ]
  },
  {
   "cell_type": "code",
   "execution_count": 16,
   "id": "c71be2b6",
   "metadata": {},
   "outputs": [
    {
     "name": "stdout",
     "output_type": "stream",
     "text": [
      "Birth year: 1998\n",
      "<class 'str'>\n",
      "<class 'int'>\n",
      "26\n"
     ]
    }
   ],
   "source": [
    "birth_year = input(\"Birth year: \")\n",
    "print(type(birth_year))\n",
    "age = 2024 - int(birth_year)\n",
    "print(type(age))\n",
    "print(age)"
   ]
  },
  {
   "cell_type": "code",
   "execution_count": 17,
   "id": "2d3b2639",
   "metadata": {},
   "outputs": [
    {
     "name": "stdout",
     "output_type": "stream",
     "text": [
      "Weight (lbs): 40\n",
      "18.0\n"
     ]
    }
   ],
   "source": [
    "weight_lbs = input(\"Weight (lbs): \")\n",
    "weight_kg = int(weight_lbs) * 0.45\n",
    "print(weight_kg)"
   ]
  },
  {
   "cell_type": "markdown",
   "id": "48ccfb30",
   "metadata": {},
   "source": [
    "### 5. Strings"
   ]
  },
  {
   "cell_type": "code",
   "execution_count": 19,
   "id": "1848cbe0",
   "metadata": {},
   "outputs": [
    {
     "name": "stdout",
     "output_type": "stream",
     "text": [
      "Python for \"Beginners\"\n"
     ]
    }
   ],
   "source": [
    "course = 'Python for \"Beginners\"'\n",
    "print(course)"
   ]
  },
  {
   "cell_type": "code",
   "execution_count": 21,
   "id": "ebc8cbf7",
   "metadata": {},
   "outputs": [
    {
     "name": "stdout",
     "output_type": "stream",
     "text": [
      "\n",
      "Hi John, \n",
      "\n",
      "here is our first email to you\n",
      "\n"
     ]
    }
   ],
   "source": [
    "message = '''\n",
    "Hi John, \n",
    "\n",
    "here is our first email to you\n",
    "'''\n",
    "\n",
    "print(message)"
   ]
  },
  {
   "cell_type": "code",
   "execution_count": 29,
   "id": "9702731b",
   "metadata": {},
   "outputs": [
    {
     "name": "stdout",
     "output_type": "stream",
     "text": [
      "P\n",
      "s\n",
      "r\n",
      "Pyt\n",
      "ython for Beginners\n",
      "Pytho\n",
      "Python for Beginners\n"
     ]
    }
   ],
   "source": [
    "course = \"Python for Beginners\"\n",
    "print(course[0])\n",
    "print(course[-1])\n",
    "print(course[-2])\n",
    "print(course[0:3])\n",
    "print(course[1:])\n",
    "print(course[:5])\n",
    "print(course[:])"
   ]
  },
  {
   "cell_type": "code",
   "execution_count": 30,
   "id": "a3593fa6",
   "metadata": {},
   "outputs": [
    {
     "name": "stdout",
     "output_type": "stream",
     "text": [
      "ennife\n"
     ]
    }
   ],
   "source": [
    "name = \"jennifer\"\n",
    "print(name[1:-1])"
   ]
  },
  {
   "cell_type": "markdown",
   "id": "341e1ac9",
   "metadata": {},
   "source": [
    "### 5. Formatted Strings"
   ]
  },
  {
   "cell_type": "code",
   "execution_count": 33,
   "id": "2284f71d",
   "metadata": {},
   "outputs": [
    {
     "name": "stdout",
     "output_type": "stream",
     "text": [
      "John [Smith] is a coder\n",
      "John [Smith] is a coder\n"
     ]
    }
   ],
   "source": [
    "first = \"John\"\n",
    "last = \"Smith\"\n",
    "message = first + ' [' + last + '] is a coder'\n",
    "msg = f'{first} [{last}] is a coder'\n",
    "print(message)\n",
    "print(msg)"
   ]
  },
  {
   "cell_type": "markdown",
   "id": "98ffdcc5",
   "metadata": {},
   "source": [
    "### 6. String methods"
   ]
  },
  {
   "cell_type": "code",
   "execution_count": 41,
   "id": "9b72b31e",
   "metadata": {},
   "outputs": [
    {
     "name": "stdout",
     "output_type": "stream",
     "text": [
      "20\n",
      "PYTHON FOR BEGINNERS\n",
      "python for beginners\n",
      "0\n",
      "11\n",
      "Python for Absolute Beginners\n",
      "True\n",
      "Python for Beginners\n"
     ]
    }
   ],
   "source": [
    "# strings are immutable\n",
    "course = \"Python for Beginners\"\n",
    "print(len(course))\n",
    "print(course.upper())\n",
    "print(course.lower())\n",
    "print(course.find(\"P\"))\n",
    "print(course.find(\"Beginners\"))\n",
    "print(course.replace(\"Beginners\", \"Absolute Beginners\"))\n",
    "print(\"Python\" in course)\n",
    "print(course)\n"
   ]
  },
  {
   "cell_type": "markdown",
   "id": "65355db1",
   "metadata": {},
   "source": [
    "### 7. Arithematic operators"
   ]
  },
  {
   "cell_type": "code",
   "execution_count": 45,
   "id": "eaaffdac",
   "metadata": {},
   "outputs": [
    {
     "name": "stdout",
     "output_type": "stream",
     "text": [
      "13\n",
      "7\n",
      "30\n",
      "3.3333333333333335\n",
      "3\n",
      "1\n",
      "1000\n"
     ]
    }
   ],
   "source": [
    "print(10 + 3)\n",
    "print(10 - 3)\n",
    "print(10 * 3)\n",
    "print(10 / 3)\n",
    "print(10 // 3)\n",
    "print(10 % 3)\n",
    "print(10 ** 3)"
   ]
  },
  {
   "cell_type": "code",
   "execution_count": 46,
   "id": "b284e16c",
   "metadata": {},
   "outputs": [
    {
     "name": "stdout",
     "output_type": "stream",
     "text": [
      "13\n"
     ]
    }
   ],
   "source": [
    "x = 10\n",
    "#x = x + 3\n",
    "x += 3\n",
    "print(x)"
   ]
  },
  {
   "cell_type": "markdown",
   "id": "a3c10441",
   "metadata": {},
   "source": [
    "### 8. Operator Precedence"
   ]
  },
  {
   "cell_type": "code",
   "execution_count": 47,
   "id": "25bfd7f2",
   "metadata": {},
   "outputs": [
    {
     "name": "stdout",
     "output_type": "stream",
     "text": [
      "16\n"
     ]
    }
   ],
   "source": [
    "# PEDMAS\n",
    "x = 10 + 3 * 2\n",
    "print(x)"
   ]
  },
  {
   "cell_type": "markdown",
   "id": "3db55503",
   "metadata": {},
   "source": [
    "### 9. Math functions"
   ]
  },
  {
   "cell_type": "code",
   "execution_count": 53,
   "id": "e6c6f37e",
   "metadata": {},
   "outputs": [
    {
     "name": "stdout",
     "output_type": "stream",
     "text": [
      "3\n",
      "2.9\n",
      "3\n",
      "2\n"
     ]
    }
   ],
   "source": [
    "import math\n",
    "\n",
    "x = 2.9\n",
    "print(round(x))\n",
    "print(abs(x))\n",
    "print(math.ceil(x))\n",
    "print(math.floor(x))"
   ]
  },
  {
   "cell_type": "markdown",
   "id": "74c68136",
   "metadata": {},
   "source": [
    "### 10. If statements"
   ]
  },
  {
   "cell_type": "code",
   "execution_count": 56,
   "id": "03de3445",
   "metadata": {},
   "outputs": [
    {
     "name": "stdout",
     "output_type": "stream",
     "text": [
      "It´s a cold day\n",
      "Wear warm clothes\n",
      "Enjoy your day\n"
     ]
    }
   ],
   "source": [
    "is_hot = False\n",
    "is_cold = True\n",
    "\n",
    "if is_hot:\n",
    "    print(\"It's a hot day\")\n",
    "    print(\"Drink plenty of water\")\n",
    "elif is_cold:\n",
    "    print(\"It´s a cold day\")\n",
    "    print(\"Wear warm clothes\")\n",
    "else:\n",
    "    print(\"It´s a lovely day\")\n",
    "    \n",
    "print(\"Enjoy your day\")"
   ]
  },
  {
   "cell_type": "code",
   "execution_count": 57,
   "id": "bfd82dfc",
   "metadata": {},
   "outputs": [
    {
     "name": "stdout",
     "output_type": "stream",
     "text": [
      "Down payment: $100000.0\n"
     ]
    }
   ],
   "source": [
    "price = 1000000\n",
    "has_good_credit = True\n",
    "\n",
    "if has_good_credit:\n",
    "    down_payment = 0.1 * price\n",
    "else:\n",
    "    down_payment = 0.2 * price\n",
    "print(f\"Down payment: ${down_payment}\")"
   ]
  },
  {
   "cell_type": "markdown",
   "id": "6f7cc877",
   "metadata": {},
   "source": [
    "### 11. Logical Operators"
   ]
  },
  {
   "cell_type": "code",
   "execution_count": 58,
   "id": "90d131eb",
   "metadata": {},
   "outputs": [
    {
     "name": "stdout",
     "output_type": "stream",
     "text": [
      "Eligible for loan\n"
     ]
    }
   ],
   "source": [
    "has_high_income = True\n",
    "has_good_credit = True\n",
    "\n",
    "if has_high_income and has_good_credit:\n",
    "    print(\"Eligible for loan\")"
   ]
  },
  {
   "cell_type": "code",
   "execution_count": 60,
   "id": "e315d211",
   "metadata": {},
   "outputs": [
    {
     "name": "stdout",
     "output_type": "stream",
     "text": [
      "Eligible for loan\n"
     ]
    }
   ],
   "source": [
    "has_high_income = True\n",
    "has_good_credit = False\n",
    "\n",
    "\n",
    "if has_high_income or has_good_credit:\n",
    "    print(\"Eligible for loan\")"
   ]
  },
  {
   "cell_type": "code",
   "execution_count": 63,
   "id": "8945f5bd",
   "metadata": {},
   "outputs": [
    {
     "name": "stdout",
     "output_type": "stream",
     "text": [
      "Eligible for loan\n"
     ]
    }
   ],
   "source": [
    "has_good_credit = True\n",
    "has_criminal_record = False\n",
    "\n",
    "\n",
    "if has_good_credit and not has_criminal_record:\n",
    "    print(\"Eligible for loan\")"
   ]
  },
  {
   "cell_type": "markdown",
   "id": "aabe026f",
   "metadata": {},
   "source": [
    "### 12. Comparison Operators"
   ]
  },
  {
   "cell_type": "code",
   "execution_count": 65,
   "id": "a258ea5f",
   "metadata": {},
   "outputs": [
    {
     "name": "stdout",
     "output_type": "stream",
     "text": [
      "It´s a hot day\n"
     ]
    }
   ],
   "source": [
    "temperature = 35\n",
    "\n",
    "if temperature > 30:\n",
    "    print(\"It´s a hot day\")\n",
    "else:\n",
    "    print(\"It´s not a hot day\")"
   ]
  },
  {
   "cell_type": "code",
   "execution_count": 66,
   "id": "e31a4cf3",
   "metadata": {},
   "outputs": [
    {
     "name": "stdout",
     "output_type": "stream",
     "text": [
      "It´s a hot day\n"
     ]
    }
   ],
   "source": [
    "temperature = 25\n",
    "\n",
    "if temperature < 30:\n",
    "    print(\"It´s a hot day\")\n",
    "else:\n",
    "    print(\"It´s not a hot day\")"
   ]
  },
  {
   "cell_type": "code",
   "execution_count": 67,
   "id": "97c6cb03",
   "metadata": {},
   "outputs": [
    {
     "name": "stdout",
     "output_type": "stream",
     "text": [
      "It´s a hot day\n"
     ]
    }
   ],
   "source": [
    "temperature = 30\n",
    "\n",
    "if temperature == 30:\n",
    "    print(\"It´s a hot day\")\n",
    "else:\n",
    "    print(\"It´s not a hot day\")"
   ]
  },
  {
   "cell_type": "code",
   "execution_count": 68,
   "id": "88c925e2",
   "metadata": {},
   "outputs": [
    {
     "name": "stdout",
     "output_type": "stream",
     "text": [
      "It´s not a hot day\n"
     ]
    }
   ],
   "source": [
    "temperature = 30\n",
    "\n",
    "if temperature != 30:\n",
    "    print(\"It´s a hot day\")\n",
    "else:\n",
    "    print(\"It´s not a hot day\")"
   ]
  },
  {
   "cell_type": "code",
   "execution_count": 69,
   "id": "1ff31d9f",
   "metadata": {},
   "outputs": [
    {
     "name": "stdout",
     "output_type": "stream",
     "text": [
      "Name must be at least 3 characters\n"
     ]
    }
   ],
   "source": [
    "name = \"J\"\n",
    "\n",
    "if len(name) < 3:\n",
    "    print(\"Name must be at least 3 characters\")\n",
    "elif len(name) > 50:\n",
    "    print(\"Name must be a maximum of 50 characters\")\n",
    "else:\n",
    "    print(\"Name looks good\")"
   ]
  },
  {
   "cell_type": "markdown",
   "id": "ca0c1c93",
   "metadata": {},
   "source": [
    "### 13. Weight convertor program"
   ]
  },
  {
   "cell_type": "code",
   "execution_count": 72,
   "id": "4e6e0146",
   "metadata": {},
   "outputs": [
    {
     "name": "stdout",
     "output_type": "stream",
     "text": [
      "Weight: 33\n",
      "(L)bs or (K)g: L\n",
      "You are 14.85 kilos\n"
     ]
    }
   ],
   "source": [
    "weight = int(input(\"Weight: \"))\n",
    "unit = input('(L)bs or (K)g: ')\n",
    "if unit.upper() == \"L\":\n",
    "    converted = weight * 0.45\n",
    "    print(f\"You are {converted} kilos\")\n",
    "else:\n",
    "    converted = weight / 0.45\n",
    "    print(f\"You are {converted} pounds\")"
   ]
  },
  {
   "cell_type": "markdown",
   "id": "f5fad5aa",
   "metadata": {},
   "source": [
    "### 14. While loops"
   ]
  },
  {
   "cell_type": "code",
   "execution_count": 77,
   "id": "0e316caa",
   "metadata": {},
   "outputs": [
    {
     "name": "stdout",
     "output_type": "stream",
     "text": [
      "*\n",
      "**\n",
      "***\n",
      "****\n",
      "*****\n",
      "Done\n"
     ]
    }
   ],
   "source": [
    "i = 1\n",
    "\n",
    "while i <= 5:\n",
    "    print(\"*\" * i)\n",
    "    i += 1\n",
    "    \n",
    "print(\"Done\")"
   ]
  },
  {
   "cell_type": "markdown",
   "id": "3cb69981",
   "metadata": {},
   "source": [
    "### 15. Guessing Game"
   ]
  },
  {
   "cell_type": "code",
   "execution_count": 2,
   "id": "5c4aff60",
   "metadata": {},
   "outputs": [
    {
     "name": "stdout",
     "output_type": "stream",
     "text": [
      "Guess: 3\n",
      "Guess: 2\n",
      "Guess: 1\n",
      "Sorry, you failed\n"
     ]
    }
   ],
   "source": [
    "secret_number = 9\n",
    "guess_count = 0\n",
    "guess_limit = 3\n",
    "\n",
    "while guess_count < guess_limit:\n",
    "    guess = int(input(\"Guess: \"))\n",
    "    guess_count += 1\n",
    "    if guess == secret_number:\n",
    "        print(\"You won!\")\n",
    "        break\n",
    "else:\n",
    "    print(\"Sorry, you failed\")\n",
    "     "
   ]
  },
  {
   "cell_type": "markdown",
   "id": "11e8d8a1",
   "metadata": {},
   "source": [
    "### 16. Car Game"
   ]
  },
  {
   "cell_type": "code",
   "execution_count": 2,
   "id": "74ff7e14",
   "metadata": {},
   "outputs": [
    {
     "name": "stdout",
     "output_type": "stream",
     "text": [
      "> car\n",
      "Sorry, I don't understand that\n",
      "> quit\n"
     ]
    }
   ],
   "source": [
    "command = \"\"\n",
    "\n",
    "while True:\n",
    "    command = input(\"> \").lower()\n",
    "    if command == \"start\":\n",
    "        print(\"Car started...\")\n",
    "    elif command == \"stop\":\n",
    "        print(\"Car stopped.\")\n",
    "    elif command == \"help\":\n",
    "        print('''\n",
    "        start -  to start the car\n",
    "        stop - to stop the car\n",
    "        quit - to quit\n",
    "        ''')\n",
    "    elif command == \"quit\":\n",
    "        break\n",
    "    else:\n",
    "        print(\"Sorry, I don't understand that\")"
   ]
  },
  {
   "cell_type": "markdown",
   "id": "c4cad787",
   "metadata": {},
   "source": [
    "### 17. For loops"
   ]
  },
  {
   "cell_type": "code",
   "execution_count": 4,
   "id": "98c10073",
   "metadata": {},
   "outputs": [
    {
     "name": "stdout",
     "output_type": "stream",
     "text": [
      "P\n",
      "y\n",
      "t\n",
      "h\n",
      "o\n",
      "n\n"
     ]
    }
   ],
   "source": [
    "for item in \"Python\":\n",
    "    print(item)"
   ]
  },
  {
   "cell_type": "code",
   "execution_count": 5,
   "id": "9fc0b27b",
   "metadata": {},
   "outputs": [
    {
     "name": "stdout",
     "output_type": "stream",
     "text": [
      "Mash\n",
      "John\n",
      "Sarah\n"
     ]
    }
   ],
   "source": [
    "for item in [\"Mash\", \"John\", \"Sarah\"]:\n",
    "    print(item)"
   ]
  },
  {
   "cell_type": "code",
   "execution_count": 6,
   "id": "27b08d39",
   "metadata": {},
   "outputs": [
    {
     "name": "stdout",
     "output_type": "stream",
     "text": [
      "0\n",
      "1\n",
      "2\n",
      "3\n",
      "4\n",
      "5\n",
      "6\n",
      "7\n",
      "8\n",
      "9\n"
     ]
    }
   ],
   "source": [
    "for item in range(10):\n",
    "    print(item)"
   ]
  },
  {
   "cell_type": "code",
   "execution_count": 7,
   "id": "fd3a43d6",
   "metadata": {},
   "outputs": [
    {
     "name": "stdout",
     "output_type": "stream",
     "text": [
      "5\n",
      "7\n",
      "9\n"
     ]
    }
   ],
   "source": [
    "for item in range(5, 10, 2):\n",
    "    print(item)"
   ]
  },
  {
   "cell_type": "code",
   "execution_count": 8,
   "id": "563b7710",
   "metadata": {},
   "outputs": [
    {
     "name": "stdout",
     "output_type": "stream",
     "text": [
      "60\n"
     ]
    }
   ],
   "source": [
    "prices = [10, 20, 30]\n",
    "total_price = 0\n",
    "\n",
    "for price in prices:\n",
    "    total_price += price\n",
    "    \n",
    "print(total_price)"
   ]
  },
  {
   "cell_type": "markdown",
   "id": "e4576032",
   "metadata": {},
   "source": [
    "### 18. Nested loops"
   ]
  },
  {
   "cell_type": "code",
   "execution_count": 11,
   "id": "33b16f21",
   "metadata": {},
   "outputs": [
    {
     "name": "stdout",
     "output_type": "stream",
     "text": [
      "(0, 0)\n",
      "(0, 1)\n",
      "(0, 2)\n",
      "(1, 0)\n",
      "(1, 1)\n",
      "(1, 2)\n",
      "(2, 0)\n",
      "(2, 1)\n",
      "(2, 2)\n",
      "(3, 0)\n",
      "(3, 1)\n",
      "(3, 2)\n"
     ]
    }
   ],
   "source": [
    "for x in range(4):\n",
    "    for y in range(3):\n",
    "        print(f'({x}, {y})')"
   ]
  },
  {
   "cell_type": "code",
   "execution_count": 15,
   "id": "35be3250",
   "metadata": {},
   "outputs": [
    {
     "name": "stdout",
     "output_type": "stream",
     "text": [
      "*****\n",
      "**\n",
      "*****\n",
      "**\n",
      "**\n"
     ]
    }
   ],
   "source": [
    "numbers = [5, 2, 5, 2, 2]\n",
    "\n",
    "for number in numbers:\n",
    "    pattern = \"\"\n",
    "    for x in range(number):\n",
    "        pattern += \"*\"\n",
    "    print(pattern)\n",
    "    "
   ]
  },
  {
   "cell_type": "markdown",
   "id": "42d5dc63",
   "metadata": {},
   "source": [
    "### 19. Lists"
   ]
  },
  {
   "cell_type": "code",
   "execution_count": 21,
   "id": "f2f22012",
   "metadata": {},
   "outputs": [
    {
     "name": "stdout",
     "output_type": "stream",
     "text": [
      "John\n",
      "Bob\n",
      "Mark\n",
      "Sarah\n",
      "['Mosh', 'Sarah']\n",
      "['John', 'Bob', 'Mosh', 'Sarah', 'Mark']\n"
     ]
    }
   ],
   "source": [
    "names = [\"John\", \"Bob\", \"Mosh\", \"Sarah\", \"Mark\"]\n",
    "\n",
    "print(names[0])\n",
    "print(names[1])\n",
    "print(names[-1])\n",
    "print(names[-2])\n",
    "print(names[2:4])\n",
    "print(names[:])"
   ]
  },
  {
   "cell_type": "code",
   "execution_count": 22,
   "id": "755bbcb1",
   "metadata": {},
   "outputs": [
    {
     "name": "stdout",
     "output_type": "stream",
     "text": [
      "100\n"
     ]
    }
   ],
   "source": [
    "numbers = [10, 20, 100, 50, 30]\n",
    "largest = numbers[0]\n",
    "\n",
    "for number in numbers:\n",
    "    if number > largest:\n",
    "        largest = number\n",
    "print(largest)"
   ]
  },
  {
   "cell_type": "markdown",
   "id": "bcf5cc04",
   "metadata": {},
   "source": [
    "### 19. 2D lists"
   ]
  },
  {
   "cell_type": "code",
   "execution_count": 3,
   "id": "ebe91261",
   "metadata": {},
   "outputs": [
    {
     "data": {
      "text/plain": [
       "20"
      ]
     },
     "execution_count": 3,
     "metadata": {},
     "output_type": "execute_result"
    }
   ],
   "source": [
    "matrix = [\n",
    "    [1, 2, 3],\n",
    "    [4, 5, 6],\n",
    "    [7, 8, 9]\n",
    "]\n",
    "matrix[0][1] = 20\n",
    "matrix[0][1]"
   ]
  },
  {
   "cell_type": "code",
   "execution_count": 6,
   "id": "b7d1277c",
   "metadata": {},
   "outputs": [
    {
     "name": "stdout",
     "output_type": "stream",
     "text": [
      "1\n",
      "2\n",
      "3\n",
      "4\n",
      "5\n",
      "6\n",
      "7\n",
      "8\n",
      "9\n"
     ]
    }
   ],
   "source": [
    "matrix = [\n",
    "    [1, 2, 3],\n",
    "    [4, 5, 6],\n",
    "    [7, 8, 9]\n",
    "]\n",
    "\n",
    "for row in matrix:\n",
    "    for item in row:\n",
    "        print(item)"
   ]
  },
  {
   "cell_type": "markdown",
   "id": "2fb7201f",
   "metadata": {},
   "source": [
    "### 20. List Methods"
   ]
  },
  {
   "cell_type": "code",
   "execution_count": 22,
   "id": "70fd7b50",
   "metadata": {},
   "outputs": [
    {
     "name": "stdout",
     "output_type": "stream",
     "text": [
      "[5, 2, 1, 7, 4, 20]\n",
      "[10, 5, 2, 1, 7, 4, 20]\n",
      "[10, 2, 1, 7, 4, 20]\n",
      "[10, 2, 1, 7, 4]\n",
      "1\n",
      "True\n",
      "0\n",
      "[1, 2, 4, 7, 10]\n",
      "[10, 7, 4, 2, 1]\n"
     ]
    }
   ],
   "source": [
    "numbers = [5, 2, 1, 7, 4]\n",
    "numbers.append(20)\n",
    "print(numbers)\n",
    "\n",
    "numbers.insert(0, 10)\n",
    "print(numbers)\n",
    "\n",
    "numbers.remove(5)\n",
    "print(numbers)\n",
    "\n",
    "numbers.pop()\n",
    "print(numbers)\n",
    "\n",
    "print(numbers.index(2))\n",
    "\n",
    "print(4 in numbers)\n",
    "\n",
    "print(numbers.count(5))\n",
    "\n",
    "numbers.sort()\n",
    "print(numbers)\n",
    "\n",
    "numbers.reverse()\n",
    "print(numbers)\n",
    "\n",
    "#numbers.clear()Ç\n",
    "#print(numbers)"
   ]
  },
  {
   "cell_type": "code",
   "execution_count": 21,
   "id": "c3570413",
   "metadata": {},
   "outputs": [
    {
     "name": "stdout",
     "output_type": "stream",
     "text": [
      "[10, 7, 4, 2, 1, 10]\n",
      "[10, 7, 4, 2, 1]\n"
     ]
    }
   ],
   "source": [
    "numbers2 = numbers.copy()\n",
    "numbers.append(10)\n",
    "print(numbers)\n",
    "print(numbers2)"
   ]
  },
  {
   "cell_type": "code",
   "execution_count": 24,
   "id": "ec9cb87d",
   "metadata": {},
   "outputs": [
    {
     "name": "stdout",
     "output_type": "stream",
     "text": [
      "[2, 4, 6, 3, 1]\n"
     ]
    }
   ],
   "source": [
    "numbers = [2, 2, 4, 6, 3, 4, 6, 1]\n",
    "uniques = []\n",
    "\n",
    "for number in numbers:\n",
    "    if number not in uniques:\n",
    "        uniques.append(number)\n",
    "\n",
    "print(uniques)"
   ]
  },
  {
   "cell_type": "markdown",
   "id": "09babac8",
   "metadata": {},
   "source": [
    "### 21. Tuples"
   ]
  },
  {
   "cell_type": "code",
   "execution_count": 28,
   "id": "ccbf0c76",
   "metadata": {},
   "outputs": [
    {
     "name": "stdout",
     "output_type": "stream",
     "text": [
      "1\n"
     ]
    }
   ],
   "source": [
    "# tuples are immutable and cannot be changed\n",
    "\n",
    "numbers = (1, 2, 3)\n",
    "print(numbers[0])\n",
    "\n",
    "#numbers[0] = 10\n",
    "#print(numbers[0])"
   ]
  },
  {
   "cell_type": "markdown",
   "id": "66c4a25d",
   "metadata": {},
   "source": [
    "### 22. Unpacking"
   ]
  },
  {
   "cell_type": "code",
   "execution_count": 29,
   "id": "754cf173",
   "metadata": {},
   "outputs": [
    {
     "name": "stdout",
     "output_type": "stream",
     "text": [
      "1 2 3\n"
     ]
    }
   ],
   "source": [
    "coordinates = (1, 2, 3)\n",
    "x, y, z = coordinates\n",
    "\n",
    "print(x, y, z)"
   ]
  },
  {
   "cell_type": "code",
   "execution_count": 30,
   "id": "a6c72caa",
   "metadata": {},
   "outputs": [
    {
     "name": "stdout",
     "output_type": "stream",
     "text": [
      "1 2 3\n"
     ]
    }
   ],
   "source": [
    "coordinates = [1, 2, 3]\n",
    "x, y, z = coordinates\n",
    "\n",
    "print(x, y, z)"
   ]
  },
  {
   "cell_type": "markdown",
   "id": "d1e3d203",
   "metadata": {},
   "source": [
    "### 23. Dictionaries"
   ]
  },
  {
   "cell_type": "code",
   "execution_count": 33,
   "id": "012c8987",
   "metadata": {},
   "outputs": [
    {
     "name": "stdout",
     "output_type": "stream",
     "text": [
      "John Smith\n",
      "30\n"
     ]
    }
   ],
   "source": [
    "customers = {\n",
    "    \"name\": \"John Smith\",\n",
    "    \"age\": 30,\n",
    "    \"is_verified\": True\n",
    "}\n",
    "\n",
    "print(customers[\"name\"])\n",
    "print(customers.get(\"age\"))"
   ]
  },
  {
   "cell_type": "code",
   "execution_count": 2,
   "id": "ae373a33",
   "metadata": {},
   "outputs": [
    {
     "name": "stdout",
     "output_type": "stream",
     "text": [
      "Phone: 1234\n",
      "One Two Three Four \n"
     ]
    }
   ],
   "source": [
    "phone = input(\"Phone: \")\n",
    "digits_mapping = {\n",
    "    \"1\": \"One\",\n",
    "    \"2\": \"Two\",\n",
    "    \"3\": \"Three\",\n",
    "    \"4\": \"Four\"\n",
    "}\n",
    "output = \"\"\n",
    "for ch in phone:\n",
    "    output += digits_mapping.get(ch, \"!\") + \" \"\n",
    "    \n",
    "print(output)"
   ]
  },
  {
   "cell_type": "markdown",
   "id": "271c793e",
   "metadata": {},
   "source": [
    "### 24. Functions"
   ]
  },
  {
   "cell_type": "code",
   "execution_count": 8,
   "id": "5812a712",
   "metadata": {},
   "outputs": [
    {
     "name": "stdout",
     "output_type": "stream",
     "text": [
      "Start\n",
      "Hi John Smith!\n",
      "Welcome abroad\n",
      "Finish\n"
     ]
    }
   ],
   "source": [
    "def greet_user(first_name, last_name):\n",
    "    print(f\"Hi {first_name} {last_name}!\")\n",
    "    print(\"Welcome abroad\")\n",
    "    \n",
    "print(\"Start\")\n",
    "greet_user(\"John\", \"Smith\")\n",
    "print(\"Finish\")"
   ]
  },
  {
   "cell_type": "code",
   "execution_count": 10,
   "id": "21c30bb0",
   "metadata": {},
   "outputs": [
    {
     "name": "stdout",
     "output_type": "stream",
     "text": [
      "Start\n",
      "Hi John Smith!\n",
      "Welcome abroad\n",
      "Finish\n"
     ]
    }
   ],
   "source": [
    "def greet_user(first_name, last_name):\n",
    "    print(f\"Hi {first_name} {last_name}!\")\n",
    "    print(\"Welcome abroad\")\n",
    "    \n",
    "print(\"Start\")\n",
    "greet_user(last_name = \"Smith\", first_name = \"John\")\n",
    "print(\"Finish\")"
   ]
  },
  {
   "cell_type": "markdown",
   "id": "e8100847",
   "metadata": {},
   "source": [
    "### 25. Return statement"
   ]
  },
  {
   "cell_type": "code",
   "execution_count": 12,
   "id": "1772b472",
   "metadata": {},
   "outputs": [
    {
     "name": "stdout",
     "output_type": "stream",
     "text": [
      "9\n"
     ]
    }
   ],
   "source": [
    "def square(number):\n",
    "    return number * number\n",
    "\n",
    "result = square(3)\n",
    "print(result)"
   ]
  },
  {
   "cell_type": "markdown",
   "id": "6286443e",
   "metadata": {},
   "source": [
    "### 26. Exceptions"
   ]
  },
  {
   "cell_type": "code",
   "execution_count": 17,
   "id": "8c65ae8e",
   "metadata": {},
   "outputs": [
    {
     "name": "stdout",
     "output_type": "stream",
     "text": [
      "Age: 0\n",
      "age cannot be zero\n"
     ]
    }
   ],
   "source": [
    "try: \n",
    "    age = int(input(\"Age: \"))\n",
    "    income = 20000\n",
    "    risk = income / age\n",
    "    print(age)\n",
    "except ZeroDivisionError:\n",
    "    print(\"age cannot be zero\")\n",
    "except ValueError:\n",
    "    print(\"Invalid value\")"
   ]
  },
  {
   "cell_type": "markdown",
   "id": "c46008ce",
   "metadata": {},
   "source": [
    "### 27. Comments"
   ]
  },
  {
   "cell_type": "code",
   "execution_count": 18,
   "id": "19413b0d",
   "metadata": {},
   "outputs": [
    {
     "name": "stdout",
     "output_type": "stream",
     "text": [
      "Sky is blue\n"
     ]
    }
   ],
   "source": [
    "# this is a comment\n",
    "print(\"Sky is blue\")"
   ]
  },
  {
   "cell_type": "markdown",
   "id": "8b344e9a",
   "metadata": {},
   "source": [
    "### 28. Classes"
   ]
  },
  {
   "cell_type": "code",
   "execution_count": 21,
   "id": "34172852",
   "metadata": {},
   "outputs": [
    {
     "name": "stdout",
     "output_type": "stream",
     "text": [
      "draw\n",
      "move\n",
      "10\n",
      "20\n"
     ]
    }
   ],
   "source": [
    "class Point:\n",
    "    def __init__(self, x, y):\n",
    "        self.x = x\n",
    "        self.y = y\n",
    "        \n",
    "    def move(self):\n",
    "        print(\"move\")\n",
    "    \n",
    "    def draw(self):\n",
    "        print(\"draw\")\n",
    "        \n",
    "point1 = Point(10, 20)\n",
    "point1.draw()\n",
    "point1.move()\n",
    "print(point1.x)\n",
    "print(point1.y)"
   ]
  },
  {
   "cell_type": "code",
   "execution_count": 25,
   "id": "df043015",
   "metadata": {},
   "outputs": [
    {
     "name": "stdout",
     "output_type": "stream",
     "text": [
      "John Smith\n",
      "Hi, I am John Smith\n",
      "Hi, I am Bob Smith\n"
     ]
    }
   ],
   "source": [
    "class Person:\n",
    "    \n",
    "    def __init__(self, name):\n",
    "        self.name = name\n",
    "        \n",
    "    def talk(self):\n",
    "        print(f\"Hi, I am {self.name}\")\n",
    "    \n",
    "john = Person(\"John Smith\")\n",
    "print(john.name)\n",
    "john.talk()\n",
    "\n",
    "bob = Person(\"Bob Smith\")\n",
    "bob.talk()"
   ]
  },
  {
   "cell_type": "markdown",
   "id": "3e2aacb5",
   "metadata": {},
   "source": [
    "### 29. Inheritance"
   ]
  },
  {
   "cell_type": "code",
   "execution_count": 28,
   "id": "0bb0a285",
   "metadata": {},
   "outputs": [
    {
     "name": "stdout",
     "output_type": "stream",
     "text": [
      "walk\n",
      "annoying\n"
     ]
    }
   ],
   "source": [
    "class Mammal:\n",
    "    def walk(self):\n",
    "        print(\"walk\")\n",
    "\n",
    "class Dog(Mammal):\n",
    "    pass\n",
    "        \n",
    "class Cat(Mammal):\n",
    "    def be_annoying(self):\n",
    "        print(\"annoying\")\n",
    "        \n",
    "\n",
    "dog1 = Dog()\n",
    "dog1.walk()\n",
    "\n",
    "cat1 = Cat()\n",
    "cat1.be_annoying()"
   ]
  },
  {
   "cell_type": "markdown",
   "id": "4525306c",
   "metadata": {},
   "source": [
    "### 30. Modules"
   ]
  },
  {
   "cell_type": "code",
   "execution_count": 29,
   "id": "f6308fae",
   "metadata": {},
   "outputs": [],
   "source": [
    "# converters.py\n",
    "def lbs_to_kg(weight):\n",
    "    return weight * 0.45\n",
    "\n",
    "def kg_to_lbs(weigth):\n",
    "    return weight / 0.45"
   ]
  },
  {
   "cell_type": "code",
   "execution_count": 31,
   "id": "7a9bc960",
   "metadata": {},
   "outputs": [],
   "source": [
    "# app.py\n",
    "\n",
    "#import converters\n",
    "#from convertes import kg_to_lbs\n",
    "\n",
    "#print(converters.kg_to_lbs(70))\n",
    "#print(kg_to_lbs(70))"
   ]
  },
  {
   "cell_type": "markdown",
   "id": "c1d820d5",
   "metadata": {},
   "source": [
    "### 31. Generating random values"
   ]
  },
  {
   "cell_type": "code",
   "execution_count": 33,
   "id": "ef863bc9",
   "metadata": {},
   "outputs": [
    {
     "name": "stdout",
     "output_type": "stream",
     "text": [
      "0.11954147254867875\n",
      "17\n",
      "0.528101341963848\n",
      "20\n",
      "0.9679165994831785\n",
      "10\n"
     ]
    }
   ],
   "source": [
    "import random\n",
    "\n",
    "for i in range(3):\n",
    "    print(random.random())\n",
    "    print(random.randint(10, 20))"
   ]
  },
  {
   "cell_type": "code",
   "execution_count": 34,
   "id": "417ff054",
   "metadata": {},
   "outputs": [
    {
     "name": "stdout",
     "output_type": "stream",
     "text": [
      "(5, 2)\n"
     ]
    }
   ],
   "source": [
    "import random\n",
    "\n",
    "class Dice:\n",
    "    def roll(self):\n",
    "        first = random.randint(1, 6)\n",
    "        second = random.randint(1, 6)\n",
    "        return (first, second)\n",
    "    \n",
    "dice = Dice()\n",
    "print(dice.roll())"
   ]
  },
  {
   "cell_type": "markdown",
   "id": "9d60b600",
   "metadata": {},
   "source": [
    "### 32. Working with directories"
   ]
  },
  {
   "cell_type": "code",
   "execution_count": 42,
   "id": "6f0bdde6",
   "metadata": {},
   "outputs": [
    {
     "name": "stdout",
     "output_type": "stream",
     "text": [
      "False\n"
     ]
    }
   ],
   "source": [
    "from pathlib import Path\n",
    "\n",
    "path = Path(\"python_tutorials\")\n",
    "print(path.exists())\n",
    "path.mkdir()\n",
    "path.rmdir()\n",
    "for file in path.glob(\"*.*\"):\n",
    "    print(file)\n"
   ]
  },
  {
   "cell_type": "code",
   "execution_count": 43,
   "id": "877eb84c",
   "metadata": {},
   "outputs": [
    {
     "name": "stdout",
     "output_type": "stream",
     "text": [
      "Requirement already satisfied: openpyxl in c:\\users\\pranj\\anaconda3\\lib\\site-packages (3.0.10)\n",
      "Requirement already satisfied: et_xmlfile in c:\\users\\pranj\\anaconda3\\lib\\site-packages (from openpyxl) (1.1.0)\n",
      "Note: you may need to restart the kernel to use updated packages.\n"
     ]
    }
   ],
   "source": [
    "pip install openpyxl"
   ]
  },
  {
   "cell_type": "code",
   "execution_count": null,
   "id": "803b12b5",
   "metadata": {},
   "outputs": [],
   "source": []
  }
 ],
 "metadata": {
  "kernelspec": {
   "display_name": "Python 3 (ipykernel)",
   "language": "python",
   "name": "python3"
  },
  "language_info": {
   "codemirror_mode": {
    "name": "ipython",
    "version": 3
   },
   "file_extension": ".py",
   "mimetype": "text/x-python",
   "name": "python",
   "nbconvert_exporter": "python",
   "pygments_lexer": "ipython3",
   "version": "3.11.7"
  }
 },
 "nbformat": 4,
 "nbformat_minor": 5
}
